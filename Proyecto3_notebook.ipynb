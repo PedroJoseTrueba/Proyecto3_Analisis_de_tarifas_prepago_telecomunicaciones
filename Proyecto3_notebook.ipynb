{
 "cells": [
  {
   "cell_type": "markdown",
   "metadata": {
    "id": "3rYiDeEH0q0f"
   },
   "source": [
    "# Análisis de Tarifas de Prepago en Operador de Telecomunicaciones\n",
    "\n",
    "## ¿Cuál es la mejor tarifa?\n",
    "\n",
    "Como analista, mi objetivo es determinar cuál de las tarifas prepago de Megaline, Surf o Ultimate, genera más ingresos para la empresa. Esto permitirá al departamento comercial ajustar el presupuesto de publicidad de manera efectiva y optimizar los recursos disponibles.\n",
    "\n",
    "Para lograr esto, llevaré a cabo un análisis preliminar basado en una muestra de 500 clientes de Megaline. Dispongo de datos que incluyen información sobre quiénes son los clientes, su ubicación geográfica, qué tarifa están utilizando, así como detalles sobre la cantidad de llamadas realizadas y mensajes de texto enviados en 2018.\n",
    "\n",
    "Mi tarea consistirá en examinar el comportamiento de los clientes en relación con las tarifas prepago y determinar cuál de ellas genera más ingresos para Megaline.\n",
    "\n",
    "## Detalles de las Tarifas\n",
    "\n",
    "Es importante tener en cuenta que Megaline redondea los segundos a minutos y los megabytes a gigabytes para sus tarifas. En el caso de las llamadas, cada llamada individual se redondea: incluso si la llamada dura solo un segundo, se contará como un minuto completo. En cuanto al tráfico web, el total del tráfico consumido en un mes se redondea hacia arriba. Por ejemplo, si un cliente utiliza 1025 megabytes este mes, se le cobrarán 2 gigabytes."
   ]
  },
  {
   "cell_type": "markdown",
   "metadata": {},
   "source": [
    "**Surf:**\n",
    "\n",
    "1) Pago mensual: 20 dólares. \n",
    "\n",
    "2) 500 minutos al mes, 50 SMS y 15 GB.\n",
    "\n",
    "3) Si se exceden los limites del paquete:\n",
    "\n",
    "- 1 minuto: 3 centavos\n",
    "- 1 SMS: 3 centavos\n",
    "- 1 GB de datos: 10 dólares\n",
    "\n",
    "**Ultimate:**\n",
    "\n",
    "1) Pago mensual: 70 dólares.\n",
    "\n",
    "2) 3000 minutos al mes, 1000 SMS y 30 GB de datos.\n",
    "\n",
    "3) Si se exceden los límites del paquete:\n",
    "- 1 minuto: 1 centavo.\n",
    "- 1 SMS: 1 centavo.\n",
    "- 1 GB de datos: 7dólares.\n",
    "\n",
    "\n",
    "\n",
    "\n"
   ]
  },
  {
   "cell_type": "markdown",
   "metadata": {
    "id": "VNddPNRQ0q0w"
   },
   "source": [
    "<a id=\"diccionario\"></a>\n",
    "# Diccionario de datos\n",
    "\n",
    "En este proyecto, trabajaré con cinco tablas diferentes.\n",
    "\n",
    "La tabla `users` (datos sobre los usuarios):\n",
    " \n",
    "- `user_id`: identificador único del usuario.\n",
    "- `first_name`: nombre del usuario.\n",
    "- `last_name`: apellido del usuario.\n",
    "- `age`: edad del usuario (en años).\n",
    "- `reg_date`: fecha de suscripción (dd, mm, aa).\n",
    "- `churn_date`: la fecha en la que el usuario dejó de usar el servicio (si el valor es ausente, la tarifa se estaba usando cuando fue extraída esta base de datos).\n",
    "- `city`: ciudad de residencia del usuario.\n",
    "- `plan`: nombre de la tarifa.\n",
    "\n",
    "La tabla `calls` (datos sobre las llamadas):\n",
    " \n",
    "- `id`: identificador único de la llamada.\n",
    "- `call_date`: fecha de la llamada.\n",
    "- `duration`: duración de la llamada (en minutos).\n",
    "- `user_id`: el identificador del usuario que realiza la llamada.\n",
    "\n",
    "La tabla `messages` (datos sobre los SMS):\n",
    " \n",
    "- `id`: identificador único del SMS.\n",
    "- `message_date`: fecha del SMS.\n",
    "- `user_id`: el identificador del usuario que manda el SMS.\n",
    "\n",
    "La tabla `internet` (datos sobre las sesiones web):\n",
    " \n",
    "- `id`: identificador único de la sesión.\n",
    "- `mb_used`: el volumen de datos gastados durante la sesión (en megabytes).\n",
    "- `session_date`: fecha de la sesión web.\n",
    "- `user_id`: identificador del usuario.\n",
    "\n",
    "La tabla `plans` (datos sobre las tarifas):\n",
    " \n",
    "- `plan_name`: nombre de la tarifa.\n",
    "- `usd_monthly_fee`: pago mensual en dólares estadounidenses.\n",
    "- `minutes_included`: minutos incluidos al mes.\n",
    "- `messages_included`: SMS incluidos al mes.\n",
    "- `mb_per_month_included`: datos incluidos al mes (en megabytes).\n",
    "- `usd_per_minute`: precio por minuto tras exceder los límites del paquete (por ejemplo, si el paquete incluye 100 minutos, el operador cobrará el minuto 101).\n",
    "- `usd_per_message`: precio por SMS tras exceder los límites del paquete.\n",
    "- `usd_per_gb`: precio por gigabyte de los datos extra tras exceder los límites del paquete (1 GB = 1024 megabytes).\n"
   ]
  },
  {
   "cell_type": "markdown",
   "metadata": {
    "id": "MQi4IPy70q0y"
   },
   "source": [
    "## Inicialización"
   ]
  },
  {
   "cell_type": "code",
   "execution_count": 1,
   "metadata": {
    "id": "MtYIuBxu0q0z"
   },
   "outputs": [],
   "source": [
    "# Cargar todas las librerías\n",
    "\n",
    "import pandas as pd\n",
    "\n",
    "import matplotlib.pyplot as plt\n",
    "\n",
    "from scipy import stats as st\n",
    "\n",
    "import numpy as np\n",
    "\n",
    "import math\n"
   ]
  },
  {
   "cell_type": "markdown",
   "metadata": {
    "id": "4ysWWC5i0q00"
   },
   "source": [
    "## Cargar datos"
   ]
  },
  {
   "cell_type": "code",
   "execution_count": 2,
   "metadata": {
    "id": "CCqPW7rS0q01"
   },
   "outputs": [],
   "source": [
    "# Cargar los archivos de datos en diferentes DataFrames\n",
    "\n",
    "calls = pd.read_csv(\"megaline_calls.csv\")\n",
    "\n",
    "internet = pd.read_csv(\"megaline_internet.csv\")\n",
    "\n",
    "messages = pd.read_csv(\"megaline_messages.csv\")\n",
    "\n",
    "plans = pd.read_csv(\"megaline_plans.csv\")\n",
    "\n",
    "users = pd.read_csv(\"megaline_users.csv\")\n"
   ]
  },
  {
   "cell_type": "markdown",
   "metadata": {
    "id": "69qqoJ3r0q01"
   },
   "source": [
    "## Preparar los datos"
   ]
  },
  {
   "cell_type": "markdown",
   "metadata": {
    "id": "vUuZw80S0q01"
   },
   "source": [
    "En esta etapa, nuestro objetivo es preparar los datos para análisis posterior. Es crucial asegurarnos de que los datos estén en el formato adecuado y libres de errores, lo que nos permitirá realizar análisis precisos y confiables.\n",
    "\n",
    "Para comenzar, convertiremos los datos en los tipos necesarios para facilitar su manipulación y análisis. A continuación, identificaremos y corregiremos cualquier error presente en los datos. Es importante abordar estos errores de manera adecuada y documentar nuestras acciones para mantener la transparencia y la trazabilidad en nuestro proceso de preparación de datos.\n",
    "\n",
    "Este proceso de limpieza y preparación es fundamental para garantizar la calidad y confiabilidad de nuestros análisis posteriores."
   ]
  },
  {
   "cell_type": "markdown",
   "metadata": {
    "id": "ohBhimvH0q01"
   },
   "source": [
    "## Tarifas"
   ]
  },
  {
   "cell_type": "code",
   "execution_count": 3,
   "metadata": {
    "id": "GptqP3Q40q02"
   },
   "outputs": [
    {
     "name": "stdout",
     "output_type": "stream",
     "text": [
      "<class 'pandas.core.frame.DataFrame'>\n",
      "RangeIndex: 2 entries, 0 to 1\n",
      "Data columns (total 8 columns):\n",
      " #   Column                 Non-Null Count  Dtype  \n",
      "---  ------                 --------------  -----  \n",
      " 0   messages_included      2 non-null      int64  \n",
      " 1   mb_per_month_included  2 non-null      int64  \n",
      " 2   minutes_included       2 non-null      int64  \n",
      " 3   usd_monthly_pay        2 non-null      int64  \n",
      " 4   usd_per_gb             2 non-null      int64  \n",
      " 5   usd_per_message        2 non-null      float64\n",
      " 6   usd_per_minute         2 non-null      float64\n",
      " 7   plan_name              2 non-null      object \n",
      "dtypes: float64(2), int64(5), object(1)\n",
      "memory usage: 256.0+ bytes\n"
     ]
    }
   ],
   "source": [
    "# Imprimir la información general/resumida sobre el DataFrame de las tarifas\n",
    "\n",
    "plans.info()\n"
   ]
  },
  {
   "cell_type": "code",
   "execution_count": 4,
   "metadata": {
    "id": "64xzjwL70q02"
   },
   "outputs": [
    {
     "data": {
      "text/html": [
       "<div>\n",
       "<style scoped>\n",
       "    .dataframe tbody tr th:only-of-type {\n",
       "        vertical-align: middle;\n",
       "    }\n",
       "\n",
       "    .dataframe tbody tr th {\n",
       "        vertical-align: top;\n",
       "    }\n",
       "\n",
       "    .dataframe thead th {\n",
       "        text-align: right;\n",
       "    }\n",
       "</style>\n",
       "<table border=\"1\" class=\"dataframe\">\n",
       "  <thead>\n",
       "    <tr style=\"text-align: right;\">\n",
       "      <th></th>\n",
       "      <th>messages_included</th>\n",
       "      <th>mb_per_month_included</th>\n",
       "      <th>minutes_included</th>\n",
       "      <th>usd_monthly_pay</th>\n",
       "      <th>usd_per_gb</th>\n",
       "      <th>usd_per_message</th>\n",
       "      <th>usd_per_minute</th>\n",
       "      <th>plan_name</th>\n",
       "    </tr>\n",
       "  </thead>\n",
       "  <tbody>\n",
       "    <tr>\n",
       "      <th>0</th>\n",
       "      <td>50</td>\n",
       "      <td>15360</td>\n",
       "      <td>500</td>\n",
       "      <td>20</td>\n",
       "      <td>10</td>\n",
       "      <td>0.03</td>\n",
       "      <td>0.03</td>\n",
       "      <td>surf</td>\n",
       "    </tr>\n",
       "    <tr>\n",
       "      <th>1</th>\n",
       "      <td>1000</td>\n",
       "      <td>30720</td>\n",
       "      <td>3000</td>\n",
       "      <td>70</td>\n",
       "      <td>7</td>\n",
       "      <td>0.01</td>\n",
       "      <td>0.01</td>\n",
       "      <td>ultimate</td>\n",
       "    </tr>\n",
       "  </tbody>\n",
       "</table>\n",
       "</div>"
      ],
      "text/plain": [
       "   messages_included  mb_per_month_included  minutes_included  \\\n",
       "0                 50                  15360               500   \n",
       "1               1000                  30720              3000   \n",
       "\n",
       "   usd_monthly_pay  usd_per_gb  usd_per_message  usd_per_minute plan_name  \n",
       "0               20          10             0.03            0.03      surf  \n",
       "1               70           7             0.01            0.01  ultimate  "
      ]
     },
     "execution_count": 4,
     "metadata": {},
     "output_type": "execute_result"
    }
   ],
   "source": [
    "# Imprimir una muestra de los datos para las tarifas\n",
    "\n",
    "plans\n"
   ]
  },
  {
   "cell_type": "markdown",
   "metadata": {
    "id": "mEc_3_hs0q02"
   },
   "source": [
    "Los datos parecen estar adecuadamente estructurados y completos en cuanto al precio de datos. No se observan problemas significativos, como tipos de datos inadecuados o datos faltantes. La información general y la muestra de datos impresa indican que todo está en orden con respecto a esta variable. Sin embargo, es importante tener en cuenta que se debe realizar una transformación de megabytes a gigabytes para asegurar la coherencia en el análisis de los datos. Este paso garantizará una interpretación correcta de las cantidades de datos utilizadas por los clientes y evitará posibles confusiones en el análisis posterior. Por lo tanto, además de verificar la integridad de los datos, también debemos considerar esta transformación como parte del proceso de preparación de datos. Una vez realizada esta conversión, los datos estarán listos para su análisis."
   ]
  },
  {
   "cell_type": "markdown",
   "metadata": {
    "id": "1n2X6WXf0q04"
   },
   "source": [
    "## Usuarios/as"
   ]
  },
  {
   "cell_type": "code",
   "execution_count": 5,
   "metadata": {
    "id": "2NgjWFqx0q05"
   },
   "outputs": [
    {
     "name": "stdout",
     "output_type": "stream",
     "text": [
      "<class 'pandas.core.frame.DataFrame'>\n",
      "RangeIndex: 500 entries, 0 to 499\n",
      "Data columns (total 8 columns):\n",
      " #   Column      Non-Null Count  Dtype \n",
      "---  ------      --------------  ----- \n",
      " 0   user_id     500 non-null    int64 \n",
      " 1   first_name  500 non-null    object\n",
      " 2   last_name   500 non-null    object\n",
      " 3   age         500 non-null    int64 \n",
      " 4   city        500 non-null    object\n",
      " 5   reg_date    500 non-null    object\n",
      " 6   plan        500 non-null    object\n",
      " 7   churn_date  34 non-null     object\n",
      "dtypes: int64(2), object(6)\n",
      "memory usage: 31.4+ KB\n"
     ]
    }
   ],
   "source": [
    "# Imprimir la información general/resumida sobre el DataFrame de usuarios\n",
    "\n",
    "users.info()\n",
    "\n"
   ]
  },
  {
   "cell_type": "code",
   "execution_count": 6,
   "metadata": {
    "id": "1IN1L9uh0q05"
   },
   "outputs": [
    {
     "data": {
      "text/html": [
       "<div>\n",
       "<style scoped>\n",
       "    .dataframe tbody tr th:only-of-type {\n",
       "        vertical-align: middle;\n",
       "    }\n",
       "\n",
       "    .dataframe tbody tr th {\n",
       "        vertical-align: top;\n",
       "    }\n",
       "\n",
       "    .dataframe thead th {\n",
       "        text-align: right;\n",
       "    }\n",
       "</style>\n",
       "<table border=\"1\" class=\"dataframe\">\n",
       "  <thead>\n",
       "    <tr style=\"text-align: right;\">\n",
       "      <th></th>\n",
       "      <th>user_id</th>\n",
       "      <th>first_name</th>\n",
       "      <th>last_name</th>\n",
       "      <th>age</th>\n",
       "      <th>city</th>\n",
       "      <th>reg_date</th>\n",
       "      <th>plan</th>\n",
       "      <th>churn_date</th>\n",
       "    </tr>\n",
       "  </thead>\n",
       "  <tbody>\n",
       "    <tr>\n",
       "      <th>246</th>\n",
       "      <td>1246</td>\n",
       "      <td>Stevie</td>\n",
       "      <td>Moran</td>\n",
       "      <td>69</td>\n",
       "      <td>Tampa-St. Petersburg-Clearwater, FL MSA</td>\n",
       "      <td>2018-01-09</td>\n",
       "      <td>ultimate</td>\n",
       "      <td>2018-07-31</td>\n",
       "    </tr>\n",
       "    <tr>\n",
       "      <th>482</th>\n",
       "      <td>1482</td>\n",
       "      <td>Armand</td>\n",
       "      <td>Glenn</td>\n",
       "      <td>70</td>\n",
       "      <td>New York-Newark-Jersey City, NY-NJ-PA MSA</td>\n",
       "      <td>2018-01-01</td>\n",
       "      <td>ultimate</td>\n",
       "      <td>NaN</td>\n",
       "    </tr>\n",
       "    <tr>\n",
       "      <th>351</th>\n",
       "      <td>1351</td>\n",
       "      <td>Kyle</td>\n",
       "      <td>Grimes</td>\n",
       "      <td>47</td>\n",
       "      <td>San Antonio-New Braunfels, TX MSA</td>\n",
       "      <td>2018-09-05</td>\n",
       "      <td>ultimate</td>\n",
       "      <td>NaN</td>\n",
       "    </tr>\n",
       "    <tr>\n",
       "      <th>129</th>\n",
       "      <td>1129</td>\n",
       "      <td>Marin</td>\n",
       "      <td>Bolton</td>\n",
       "      <td>70</td>\n",
       "      <td>Baton Rouge, LA MSA</td>\n",
       "      <td>2018-11-10</td>\n",
       "      <td>surf</td>\n",
       "      <td>2018-12-27</td>\n",
       "    </tr>\n",
       "    <tr>\n",
       "      <th>176</th>\n",
       "      <td>1176</td>\n",
       "      <td>Terrance</td>\n",
       "      <td>Shaffer</td>\n",
       "      <td>75</td>\n",
       "      <td>New York-Newark-Jersey City, NY-NJ-PA MSA</td>\n",
       "      <td>2018-10-03</td>\n",
       "      <td>surf</td>\n",
       "      <td>NaN</td>\n",
       "    </tr>\n",
       "  </tbody>\n",
       "</table>\n",
       "</div>"
      ],
      "text/plain": [
       "     user_id first_name last_name  age  \\\n",
       "246     1246     Stevie     Moran   69   \n",
       "482     1482     Armand     Glenn   70   \n",
       "351     1351       Kyle    Grimes   47   \n",
       "129     1129      Marin    Bolton   70   \n",
       "176     1176   Terrance   Shaffer   75   \n",
       "\n",
       "                                          city    reg_date      plan  \\\n",
       "246    Tampa-St. Petersburg-Clearwater, FL MSA  2018-01-09  ultimate   \n",
       "482  New York-Newark-Jersey City, NY-NJ-PA MSA  2018-01-01  ultimate   \n",
       "351          San Antonio-New Braunfels, TX MSA  2018-09-05  ultimate   \n",
       "129                        Baton Rouge, LA MSA  2018-11-10      surf   \n",
       "176  New York-Newark-Jersey City, NY-NJ-PA MSA  2018-10-03      surf   \n",
       "\n",
       "     churn_date  \n",
       "246  2018-07-31  \n",
       "482         NaN  \n",
       "351         NaN  \n",
       "129  2018-12-27  \n",
       "176         NaN  "
      ]
     },
     "execution_count": 6,
     "metadata": {},
     "output_type": "execute_result"
    }
   ],
   "source": [
    "# Imprimir una muestra de datos para usuarios\n",
    "\n",
    "users.sample(5,random_state=26)\n"
   ]
  },
  {
   "cell_type": "markdown",
   "metadata": {
    "id": "dCZoUq4f0q06"
   },
   "source": [
    "Al observar la información general y la muestra de datos impresa para el precio de datos anterior, se percibe una estructura clara en cada columna. Los únicos valores NaN se encuentran en la columna churn_date, lo cual es comprensible ya que estos registros corresponden a usuarios que aún no han cancelado el servicio. Para abordar este tema, simplemente ajustaremos el formato de las columnas reg_date y churn_date a datetime, lo que nos permitirá trabajar de manera consistente con fechas y tiempos."
   ]
  },
  {
   "cell_type": "markdown",
   "metadata": {
    "id": "BX5FQh_I0q06"
   },
   "source": [
    "### Corregir los datos"
   ]
  },
  {
   "cell_type": "code",
   "execution_count": 7,
   "metadata": {
    "id": "yUqX-K0C0q07"
   },
   "outputs": [],
   "source": [
    "#Convertir las fechas a formato datetime\n",
    "users[\"reg_date\"] = pd.to_datetime(users[\"reg_date\"], format='%Y-%m-%d')\n",
    "\n",
    "users[\"churn_date\"]=pd.to_datetime(users[\"churn_date\"], format='%Y-%m-%d')"
   ]
  },
  {
   "cell_type": "markdown",
   "metadata": {
    "id": "o7MeKCid0q08"
   },
   "source": [
    "## Llamadas"
   ]
  },
  {
   "cell_type": "code",
   "execution_count": 8,
   "metadata": {
    "id": "6dDlnoDm0q08"
   },
   "outputs": [
    {
     "name": "stdout",
     "output_type": "stream",
     "text": [
      "<class 'pandas.core.frame.DataFrame'>\n",
      "RangeIndex: 137735 entries, 0 to 137734\n",
      "Data columns (total 4 columns):\n",
      " #   Column     Non-Null Count   Dtype  \n",
      "---  ------     --------------   -----  \n",
      " 0   id         137735 non-null  object \n",
      " 1   user_id    137735 non-null  int64  \n",
      " 2   call_date  137735 non-null  object \n",
      " 3   duration   137735 non-null  float64\n",
      "dtypes: float64(1), int64(1), object(2)\n",
      "memory usage: 4.2+ MB\n"
     ]
    }
   ],
   "source": [
    "# Imprimir la información general/resumida sobre el DataFrame de las llamadas\n",
    "\n",
    "calls.info()"
   ]
  },
  {
   "cell_type": "code",
   "execution_count": 9,
   "metadata": {
    "id": "kuh1vlNB0q09"
   },
   "outputs": [
    {
     "data": {
      "text/html": [
       "<div>\n",
       "<style scoped>\n",
       "    .dataframe tbody tr th:only-of-type {\n",
       "        vertical-align: middle;\n",
       "    }\n",
       "\n",
       "    .dataframe tbody tr th {\n",
       "        vertical-align: top;\n",
       "    }\n",
       "\n",
       "    .dataframe thead th {\n",
       "        text-align: right;\n",
       "    }\n",
       "</style>\n",
       "<table border=\"1\" class=\"dataframe\">\n",
       "  <thead>\n",
       "    <tr style=\"text-align: right;\">\n",
       "      <th></th>\n",
       "      <th>id</th>\n",
       "      <th>user_id</th>\n",
       "      <th>call_date</th>\n",
       "      <th>duration</th>\n",
       "    </tr>\n",
       "  </thead>\n",
       "  <tbody>\n",
       "    <tr>\n",
       "      <th>59445</th>\n",
       "      <td>1214_514</td>\n",
       "      <td>1214</td>\n",
       "      <td>2018-04-12</td>\n",
       "      <td>1.87</td>\n",
       "    </tr>\n",
       "    <tr>\n",
       "      <th>34514</th>\n",
       "      <td>1130_34</td>\n",
       "      <td>1130</td>\n",
       "      <td>2018-11-12</td>\n",
       "      <td>0.00</td>\n",
       "    </tr>\n",
       "    <tr>\n",
       "      <th>54329</th>\n",
       "      <td>1196_212</td>\n",
       "      <td>1196</td>\n",
       "      <td>2018-10-31</td>\n",
       "      <td>9.29</td>\n",
       "    </tr>\n",
       "    <tr>\n",
       "      <th>132025</th>\n",
       "      <td>1475_172</td>\n",
       "      <td>1475</td>\n",
       "      <td>2018-09-10</td>\n",
       "      <td>0.00</td>\n",
       "    </tr>\n",
       "    <tr>\n",
       "      <th>16217</th>\n",
       "      <td>1064_75</td>\n",
       "      <td>1064</td>\n",
       "      <td>2018-10-27</td>\n",
       "      <td>2.79</td>\n",
       "    </tr>\n",
       "  </tbody>\n",
       "</table>\n",
       "</div>"
      ],
      "text/plain": [
       "              id  user_id   call_date  duration\n",
       "59445   1214_514     1214  2018-04-12      1.87\n",
       "34514    1130_34     1130  2018-11-12      0.00\n",
       "54329   1196_212     1196  2018-10-31      9.29\n",
       "132025  1475_172     1475  2018-09-10      0.00\n",
       "16217    1064_75     1064  2018-10-27      2.79"
      ]
     },
     "execution_count": 9,
     "metadata": {},
     "output_type": "execute_result"
    }
   ],
   "source": [
    "# Imprimir una muestra de datos para las llamadas\n",
    "\n",
    "calls.sample(5,random_state=25)\n"
   ]
  },
  {
   "cell_type": "markdown",
   "metadata": {
    "id": "DOAxYJSx0q09"
   },
   "source": [
    "En este caso, se requirió ajustar la columna call_date al formato datetime, lo cual se completó satisfactoriamente. Además, se redondeó hacia arriba la duración de las llamadas. Dado que Megaline redondea los segundos a minutos, cada llamada individual se redondea. Incluso si la llamada duró solo un segundo, se contará como un minuto."
   ]
  },
  {
   "cell_type": "markdown",
   "metadata": {
    "id": "S7hzxmbX0q0-"
   },
   "source": [
    "### Corregir los datos"
   ]
  },
  {
   "cell_type": "code",
   "execution_count": 10,
   "metadata": {
    "id": "S2r8xA4f0q0-"
   },
   "outputs": [],
   "source": [
    "# Redondear hacia arriba los datos en la columna 'llamadas'\n",
    "calls['duration'] = np.ceil(calls['duration'])\n",
    "\n",
    "#Convertir las fechas a formato datetime\n",
    "calls[\"call_date\"] = pd.to_datetime(calls[\"call_date\"], format='%Y-%m-%d')"
   ]
  },
  {
   "cell_type": "markdown",
   "metadata": {
    "id": "mOUZSi180q0_"
   },
   "source": [
    "## Mensajes"
   ]
  },
  {
   "cell_type": "code",
   "execution_count": 11,
   "metadata": {
    "id": "R-bYJpdV0q1A"
   },
   "outputs": [
    {
     "name": "stdout",
     "output_type": "stream",
     "text": [
      "<class 'pandas.core.frame.DataFrame'>\n",
      "RangeIndex: 76051 entries, 0 to 76050\n",
      "Data columns (total 3 columns):\n",
      " #   Column        Non-Null Count  Dtype \n",
      "---  ------        --------------  ----- \n",
      " 0   id            76051 non-null  object\n",
      " 1   user_id       76051 non-null  int64 \n",
      " 2   message_date  76051 non-null  object\n",
      "dtypes: int64(1), object(2)\n",
      "memory usage: 1.7+ MB\n"
     ]
    }
   ],
   "source": [
    "# Imprimir la información general/resumida sobre el DataFrame de los mensajes\n",
    "\n",
    "messages.info()"
   ]
  },
  {
   "cell_type": "code",
   "execution_count": 12,
   "metadata": {
    "id": "mCEl2iGE0q1A"
   },
   "outputs": [
    {
     "data": {
      "text/html": [
       "<div>\n",
       "<style scoped>\n",
       "    .dataframe tbody tr th:only-of-type {\n",
       "        vertical-align: middle;\n",
       "    }\n",
       "\n",
       "    .dataframe tbody tr th {\n",
       "        vertical-align: top;\n",
       "    }\n",
       "\n",
       "    .dataframe thead th {\n",
       "        text-align: right;\n",
       "    }\n",
       "</style>\n",
       "<table border=\"1\" class=\"dataframe\">\n",
       "  <thead>\n",
       "    <tr style=\"text-align: right;\">\n",
       "      <th></th>\n",
       "      <th>id</th>\n",
       "      <th>user_id</th>\n",
       "      <th>message_date</th>\n",
       "    </tr>\n",
       "  </thead>\n",
       "  <tbody>\n",
       "    <tr>\n",
       "      <th>40692</th>\n",
       "      <td>1261_351</td>\n",
       "      <td>1261</td>\n",
       "      <td>2018-04-20</td>\n",
       "    </tr>\n",
       "    <tr>\n",
       "      <th>68583</th>\n",
       "      <td>1444_66</td>\n",
       "      <td>1444</td>\n",
       "      <td>2018-09-23</td>\n",
       "    </tr>\n",
       "    <tr>\n",
       "      <th>24026</th>\n",
       "      <td>1144_529</td>\n",
       "      <td>1144</td>\n",
       "      <td>2018-11-19</td>\n",
       "    </tr>\n",
       "    <tr>\n",
       "      <th>55569</th>\n",
       "      <td>1349_270</td>\n",
       "      <td>1349</td>\n",
       "      <td>2018-12-06</td>\n",
       "    </tr>\n",
       "    <tr>\n",
       "      <th>11054</th>\n",
       "      <td>1077_325</td>\n",
       "      <td>1077</td>\n",
       "      <td>2018-08-28</td>\n",
       "    </tr>\n",
       "  </tbody>\n",
       "</table>\n",
       "</div>"
      ],
      "text/plain": [
       "             id  user_id message_date\n",
       "40692  1261_351     1261   2018-04-20\n",
       "68583   1444_66     1444   2018-09-23\n",
       "24026  1144_529     1144   2018-11-19\n",
       "55569  1349_270     1349   2018-12-06\n",
       "11054  1077_325     1077   2018-08-28"
      ]
     },
     "execution_count": 12,
     "metadata": {},
     "output_type": "execute_result"
    }
   ],
   "source": [
    "# Imprimir una muestra de datos para los mensajes\n",
    "\n",
    "messages.sample(5,random_state=26)"
   ]
  },
  {
   "cell_type": "markdown",
   "metadata": {
    "id": "04xDj7KH0q1A"
   },
   "source": [
    "En este caso, todo está en orden. Solamente se modificará la columna message_date para que esté en formato datetime"
   ]
  },
  {
   "cell_type": "markdown",
   "metadata": {
    "id": "Sprfak900q1B"
   },
   "source": [
    "### Corregir los datos"
   ]
  },
  {
   "cell_type": "code",
   "execution_count": 13,
   "metadata": {
    "id": "vsllvkoa0q1B"
   },
   "outputs": [],
   "source": [
    "#Covertir message_date a datetime\n",
    "messages[\"message_date\"] = pd.to_datetime(messages[\"message_date\"], format='%Y-%m-%d')"
   ]
  },
  {
   "cell_type": "markdown",
   "metadata": {
    "id": "bStkaxn40q1C"
   },
   "source": [
    "## Internet"
   ]
  },
  {
   "cell_type": "code",
   "execution_count": 14,
   "metadata": {
    "id": "e-Uz5qyn0q1C"
   },
   "outputs": [
    {
     "name": "stdout",
     "output_type": "stream",
     "text": [
      "<class 'pandas.core.frame.DataFrame'>\n",
      "RangeIndex: 104825 entries, 0 to 104824\n",
      "Data columns (total 4 columns):\n",
      " #   Column        Non-Null Count   Dtype  \n",
      "---  ------        --------------   -----  \n",
      " 0   id            104825 non-null  object \n",
      " 1   user_id       104825 non-null  int64  \n",
      " 2   session_date  104825 non-null  object \n",
      " 3   mb_used       104825 non-null  float64\n",
      "dtypes: float64(1), int64(1), object(2)\n",
      "memory usage: 3.2+ MB\n"
     ]
    }
   ],
   "source": [
    "# Imprimir la información general/resumida sobre el DataFrame de internet\n",
    "\n",
    "internet.info()\n"
   ]
  },
  {
   "cell_type": "code",
   "execution_count": 15,
   "metadata": {
    "id": "9r3x_XLw0q1C"
   },
   "outputs": [
    {
     "data": {
      "text/html": [
       "<div>\n",
       "<style scoped>\n",
       "    .dataframe tbody tr th:only-of-type {\n",
       "        vertical-align: middle;\n",
       "    }\n",
       "\n",
       "    .dataframe tbody tr th {\n",
       "        vertical-align: top;\n",
       "    }\n",
       "\n",
       "    .dataframe thead th {\n",
       "        text-align: right;\n",
       "    }\n",
       "</style>\n",
       "<table border=\"1\" class=\"dataframe\">\n",
       "  <thead>\n",
       "    <tr style=\"text-align: right;\">\n",
       "      <th></th>\n",
       "      <th>id</th>\n",
       "      <th>user_id</th>\n",
       "      <th>session_date</th>\n",
       "      <th>mb_used</th>\n",
       "    </tr>\n",
       "  </thead>\n",
       "  <tbody>\n",
       "    <tr>\n",
       "      <th>4706</th>\n",
       "      <td>1028_265</td>\n",
       "      <td>1028</td>\n",
       "      <td>2018-09-19</td>\n",
       "      <td>205.11</td>\n",
       "    </tr>\n",
       "    <tr>\n",
       "      <th>39181</th>\n",
       "      <td>1176_2</td>\n",
       "      <td>1176</td>\n",
       "      <td>2018-12-10</td>\n",
       "      <td>165.55</td>\n",
       "    </tr>\n",
       "    <tr>\n",
       "      <th>74526</th>\n",
       "      <td>1351_12</td>\n",
       "      <td>1351</td>\n",
       "      <td>2018-12-20</td>\n",
       "      <td>132.41</td>\n",
       "    </tr>\n",
       "    <tr>\n",
       "      <th>54938</th>\n",
       "      <td>1249_131</td>\n",
       "      <td>1249</td>\n",
       "      <td>2018-08-22</td>\n",
       "      <td>504.56</td>\n",
       "    </tr>\n",
       "    <tr>\n",
       "      <th>7667</th>\n",
       "      <td>1041_507</td>\n",
       "      <td>1041</td>\n",
       "      <td>2018-10-05</td>\n",
       "      <td>0.00</td>\n",
       "    </tr>\n",
       "  </tbody>\n",
       "</table>\n",
       "</div>"
      ],
      "text/plain": [
       "             id  user_id session_date  mb_used\n",
       "4706   1028_265     1028   2018-09-19   205.11\n",
       "39181    1176_2     1176   2018-12-10   165.55\n",
       "74526   1351_12     1351   2018-12-20   132.41\n",
       "54938  1249_131     1249   2018-08-22   504.56\n",
       "7667   1041_507     1041   2018-10-05     0.00"
      ]
     },
     "execution_count": 15,
     "metadata": {},
     "output_type": "execute_result"
    }
   ],
   "source": [
    "# Imprimir una muestra de datos para el tráfico de internet\n",
    "\n",
    "internet.sample(5,random_state=25)"
   ]
  },
  {
   "cell_type": "markdown",
   "metadata": {
    "id": "EzOG5ik30q1D"
   },
   "source": [
    "En este caso, se ajustará la columna session_date para que esté en formato datetime. Es importante tener en cuenta que, además de esta transformación, cuando agrupemos los datos para el análisis posterior, será necesario redondear hacia arriba los valores resultantes de la transformación de megabytes a gigabytes. En este ejercicio, debemos realizar el redondeo superior, ya que el costo adicional se cobra en cuanto se superan los límites establecidos. Por lo tanto, después de convertir los datos de megabytes a gigabytes, procederemos a realizar el redondeo para garantizar la precisión y coherencia en nuestro análisis."
   ]
  },
  {
   "cell_type": "markdown",
   "metadata": {
    "id": "yA0tkPFg0q1D"
   },
   "source": [
    "### Corregir los datos"
   ]
  },
  {
   "cell_type": "code",
   "execution_count": 16,
   "metadata": {
    "id": "zVeanzdd0q1E"
   },
   "outputs": [],
   "source": [
    "#Convertir session_date a datetime\n",
    "internet[\"session_date\"] = pd.to_datetime(internet[\"session_date\"], format='%Y-%m-%d')"
   ]
  },
  {
   "cell_type": "markdown",
   "metadata": {
    "id": "3UA2cqIW0q1E"
   },
   "source": [
    "## Estudiar las condiciones de las tarifas"
   ]
  },
  {
   "cell_type": "code",
   "execution_count": 17,
   "metadata": {
    "id": "i409op8p0q1F"
   },
   "outputs": [
    {
     "data": {
      "text/html": [
       "<div>\n",
       "<style scoped>\n",
       "    .dataframe tbody tr th:only-of-type {\n",
       "        vertical-align: middle;\n",
       "    }\n",
       "\n",
       "    .dataframe tbody tr th {\n",
       "        vertical-align: top;\n",
       "    }\n",
       "\n",
       "    .dataframe thead th {\n",
       "        text-align: right;\n",
       "    }\n",
       "</style>\n",
       "<table border=\"1\" class=\"dataframe\">\n",
       "  <thead>\n",
       "    <tr style=\"text-align: right;\">\n",
       "      <th></th>\n",
       "      <th>messages_included</th>\n",
       "      <th>mb_per_month_included</th>\n",
       "      <th>minutes_included</th>\n",
       "      <th>usd_monthly_pay</th>\n",
       "      <th>usd_per_gb</th>\n",
       "      <th>usd_per_message</th>\n",
       "      <th>usd_per_minute</th>\n",
       "      <th>plan_name</th>\n",
       "    </tr>\n",
       "  </thead>\n",
       "  <tbody>\n",
       "    <tr>\n",
       "      <th>0</th>\n",
       "      <td>50</td>\n",
       "      <td>15360</td>\n",
       "      <td>500</td>\n",
       "      <td>20</td>\n",
       "      <td>10</td>\n",
       "      <td>0.03</td>\n",
       "      <td>0.03</td>\n",
       "      <td>surf</td>\n",
       "    </tr>\n",
       "    <tr>\n",
       "      <th>1</th>\n",
       "      <td>1000</td>\n",
       "      <td>30720</td>\n",
       "      <td>3000</td>\n",
       "      <td>70</td>\n",
       "      <td>7</td>\n",
       "      <td>0.01</td>\n",
       "      <td>0.01</td>\n",
       "      <td>ultimate</td>\n",
       "    </tr>\n",
       "  </tbody>\n",
       "</table>\n",
       "</div>"
      ],
      "text/plain": [
       "   messages_included  mb_per_month_included  minutes_included  \\\n",
       "0                 50                  15360               500   \n",
       "1               1000                  30720              3000   \n",
       "\n",
       "   usd_monthly_pay  usd_per_gb  usd_per_message  usd_per_minute plan_name  \n",
       "0               20          10             0.03            0.03      surf  \n",
       "1               70           7             0.01            0.01  ultimate  "
      ]
     },
     "execution_count": 17,
     "metadata": {},
     "output_type": "execute_result"
    }
   ],
   "source": [
    "# Imprimir las condiciones de la tarifa\n",
    "plans\n"
   ]
  },
  {
   "cell_type": "markdown",
   "metadata": {
    "id": "hMR1tP5d0q1F"
   },
   "source": [
    "## Agregar datos por usuario\n",
    "\n",
    "Ahora que los datos están limpios, procederemos a agregarlos por usuario y por periodo para garantizar que solo haya un registro por usuario y por periodo. Una vez agrupados los datos por usuario y por mes, añadiremos una columna con el número de llamadas `num_calls`, una columna con la suma de la duración de las llamadas `total_calls_duration`, una columna con el número de mensajes `num_messages` y una columna con el uso de internet por usuario en gigabytes `round_gb`. Finalmente, añadiremos una columna con la tarifa de cada usuario `plan` Ultimate o Surf. Este paso es crucial para simplificar el análisis posterior y asegurar la coherencia de los datos en la tabla resultante."
   ]
  },
  {
   "cell_type": "code",
   "execution_count": 18,
   "metadata": {
    "id": "A332cedB0q1G"
   },
   "outputs": [
    {
     "data": {
      "text/html": [
       "<div>\n",
       "<style scoped>\n",
       "    .dataframe tbody tr th:only-of-type {\n",
       "        vertical-align: middle;\n",
       "    }\n",
       "\n",
       "    .dataframe tbody tr th {\n",
       "        vertical-align: top;\n",
       "    }\n",
       "\n",
       "    .dataframe thead th {\n",
       "        text-align: right;\n",
       "    }\n",
       "</style>\n",
       "<table border=\"1\" class=\"dataframe\">\n",
       "  <thead>\n",
       "    <tr style=\"text-align: right;\">\n",
       "      <th></th>\n",
       "      <th>user_id</th>\n",
       "      <th>month</th>\n",
       "      <th>num_calls</th>\n",
       "    </tr>\n",
       "  </thead>\n",
       "  <tbody>\n",
       "    <tr>\n",
       "      <th>0</th>\n",
       "      <td>1000</td>\n",
       "      <td>12</td>\n",
       "      <td>16</td>\n",
       "    </tr>\n",
       "    <tr>\n",
       "      <th>1</th>\n",
       "      <td>1001</td>\n",
       "      <td>8</td>\n",
       "      <td>27</td>\n",
       "    </tr>\n",
       "    <tr>\n",
       "      <th>2</th>\n",
       "      <td>1001</td>\n",
       "      <td>9</td>\n",
       "      <td>49</td>\n",
       "    </tr>\n",
       "    <tr>\n",
       "      <th>3</th>\n",
       "      <td>1001</td>\n",
       "      <td>10</td>\n",
       "      <td>65</td>\n",
       "    </tr>\n",
       "    <tr>\n",
       "      <th>4</th>\n",
       "      <td>1001</td>\n",
       "      <td>11</td>\n",
       "      <td>64</td>\n",
       "    </tr>\n",
       "    <tr>\n",
       "      <th>...</th>\n",
       "      <td>...</td>\n",
       "      <td>...</td>\n",
       "      <td>...</td>\n",
       "    </tr>\n",
       "    <tr>\n",
       "      <th>2253</th>\n",
       "      <td>1498</td>\n",
       "      <td>12</td>\n",
       "      <td>39</td>\n",
       "    </tr>\n",
       "    <tr>\n",
       "      <th>2254</th>\n",
       "      <td>1499</td>\n",
       "      <td>9</td>\n",
       "      <td>41</td>\n",
       "    </tr>\n",
       "    <tr>\n",
       "      <th>2255</th>\n",
       "      <td>1499</td>\n",
       "      <td>10</td>\n",
       "      <td>53</td>\n",
       "    </tr>\n",
       "    <tr>\n",
       "      <th>2256</th>\n",
       "      <td>1499</td>\n",
       "      <td>11</td>\n",
       "      <td>45</td>\n",
       "    </tr>\n",
       "    <tr>\n",
       "      <th>2257</th>\n",
       "      <td>1499</td>\n",
       "      <td>12</td>\n",
       "      <td>65</td>\n",
       "    </tr>\n",
       "  </tbody>\n",
       "</table>\n",
       "<p>2258 rows × 3 columns</p>\n",
       "</div>"
      ],
      "text/plain": [
       "      user_id  month  num_calls\n",
       "0        1000     12         16\n",
       "1        1001      8         27\n",
       "2        1001      9         49\n",
       "3        1001     10         65\n",
       "4        1001     11         64\n",
       "...       ...    ...        ...\n",
       "2253     1498     12         39\n",
       "2254     1499      9         41\n",
       "2255     1499     10         53\n",
       "2256     1499     11         45\n",
       "2257     1499     12         65\n",
       "\n",
       "[2258 rows x 3 columns]"
      ]
     },
     "execution_count": 18,
     "metadata": {},
     "output_type": "execute_result"
    }
   ],
   "source": [
    "# Calcular el número de llamadas hechas por cada usuario al mes. Guarda el resultado.\n",
    "# Crear una nueva columna 'mes' que contenga el mes correspondiente para cada fecha\n",
    "calls['month'] = calls['call_date'].dt.month\n",
    "\n",
    "#Crear un Dataframe con las llamadas de cada usuario por mes\n",
    "monthly_service_use = calls.groupby(['user_id', 'month']).size().reset_index(name='num_calls')\n",
    "\n",
    "#Llamar al DataFrame\n",
    "monthly_service_use"
   ]
  },
  {
   "cell_type": "code",
   "execution_count": 19,
   "metadata": {
    "id": "aw2cmuql0q1G"
   },
   "outputs": [
    {
     "data": {
      "text/html": [
       "<div>\n",
       "<style scoped>\n",
       "    .dataframe tbody tr th:only-of-type {\n",
       "        vertical-align: middle;\n",
       "    }\n",
       "\n",
       "    .dataframe tbody tr th {\n",
       "        vertical-align: top;\n",
       "    }\n",
       "\n",
       "    .dataframe thead th {\n",
       "        text-align: right;\n",
       "    }\n",
       "</style>\n",
       "<table border=\"1\" class=\"dataframe\">\n",
       "  <thead>\n",
       "    <tr style=\"text-align: right;\">\n",
       "      <th></th>\n",
       "      <th>user_id</th>\n",
       "      <th>month</th>\n",
       "      <th>num_calls</th>\n",
       "      <th>total_calls_duration</th>\n",
       "    </tr>\n",
       "  </thead>\n",
       "  <tbody>\n",
       "    <tr>\n",
       "      <th>0</th>\n",
       "      <td>1000</td>\n",
       "      <td>12</td>\n",
       "      <td>16</td>\n",
       "      <td>124.0</td>\n",
       "    </tr>\n",
       "    <tr>\n",
       "      <th>1</th>\n",
       "      <td>1001</td>\n",
       "      <td>8</td>\n",
       "      <td>27</td>\n",
       "      <td>182.0</td>\n",
       "    </tr>\n",
       "    <tr>\n",
       "      <th>2</th>\n",
       "      <td>1001</td>\n",
       "      <td>9</td>\n",
       "      <td>49</td>\n",
       "      <td>315.0</td>\n",
       "    </tr>\n",
       "    <tr>\n",
       "      <th>3</th>\n",
       "      <td>1001</td>\n",
       "      <td>10</td>\n",
       "      <td>65</td>\n",
       "      <td>393.0</td>\n",
       "    </tr>\n",
       "    <tr>\n",
       "      <th>4</th>\n",
       "      <td>1001</td>\n",
       "      <td>11</td>\n",
       "      <td>64</td>\n",
       "      <td>426.0</td>\n",
       "    </tr>\n",
       "    <tr>\n",
       "      <th>...</th>\n",
       "      <td>...</td>\n",
       "      <td>...</td>\n",
       "      <td>...</td>\n",
       "      <td>...</td>\n",
       "    </tr>\n",
       "    <tr>\n",
       "      <th>2253</th>\n",
       "      <td>1498</td>\n",
       "      <td>12</td>\n",
       "      <td>39</td>\n",
       "      <td>339.0</td>\n",
       "    </tr>\n",
       "    <tr>\n",
       "      <th>2254</th>\n",
       "      <td>1499</td>\n",
       "      <td>9</td>\n",
       "      <td>41</td>\n",
       "      <td>346.0</td>\n",
       "    </tr>\n",
       "    <tr>\n",
       "      <th>2255</th>\n",
       "      <td>1499</td>\n",
       "      <td>10</td>\n",
       "      <td>53</td>\n",
       "      <td>385.0</td>\n",
       "    </tr>\n",
       "    <tr>\n",
       "      <th>2256</th>\n",
       "      <td>1499</td>\n",
       "      <td>11</td>\n",
       "      <td>45</td>\n",
       "      <td>308.0</td>\n",
       "    </tr>\n",
       "    <tr>\n",
       "      <th>2257</th>\n",
       "      <td>1499</td>\n",
       "      <td>12</td>\n",
       "      <td>65</td>\n",
       "      <td>496.0</td>\n",
       "    </tr>\n",
       "  </tbody>\n",
       "</table>\n",
       "<p>2258 rows × 4 columns</p>\n",
       "</div>"
      ],
      "text/plain": [
       "      user_id  month  num_calls  total_calls_duration\n",
       "0        1000     12         16                 124.0\n",
       "1        1001      8         27                 182.0\n",
       "2        1001      9         49                 315.0\n",
       "3        1001     10         65                 393.0\n",
       "4        1001     11         64                 426.0\n",
       "...       ...    ...        ...                   ...\n",
       "2253     1498     12         39                 339.0\n",
       "2254     1499      9         41                 346.0\n",
       "2255     1499     10         53                 385.0\n",
       "2256     1499     11         45                 308.0\n",
       "2257     1499     12         65                 496.0\n",
       "\n",
       "[2258 rows x 4 columns]"
      ]
     },
     "execution_count": 19,
     "metadata": {},
     "output_type": "execute_result"
    }
   ],
   "source": [
    "# Calcular la cantidad de minutos usados por cada usuario al mes. Guardar el resultado.\n",
    "\n",
    "total_calls_duration = calls.groupby(['user_id', 'month'])[\"duration\"].sum().reset_index(name='total_calls_duration')\n",
    "\n",
    "# Fusionar los DataFrames monthly_service_use y total_calls_duration\n",
    "monthly_service_use = pd.merge(monthly_service_use, total_calls_duration, on=['user_id', 'month'], how='left')\n",
    "\n",
    "#Llamar al DataFrame\n",
    "monthly_service_use"
   ]
  },
  {
   "cell_type": "code",
   "execution_count": 20,
   "metadata": {
    "id": "CcQvNHn60q1G"
   },
   "outputs": [
    {
     "data": {
      "text/html": [
       "<div>\n",
       "<style scoped>\n",
       "    .dataframe tbody tr th:only-of-type {\n",
       "        vertical-align: middle;\n",
       "    }\n",
       "\n",
       "    .dataframe tbody tr th {\n",
       "        vertical-align: top;\n",
       "    }\n",
       "\n",
       "    .dataframe thead th {\n",
       "        text-align: right;\n",
       "    }\n",
       "</style>\n",
       "<table border=\"1\" class=\"dataframe\">\n",
       "  <thead>\n",
       "    <tr style=\"text-align: right;\">\n",
       "      <th></th>\n",
       "      <th>user_id</th>\n",
       "      <th>month</th>\n",
       "      <th>num_calls</th>\n",
       "      <th>total_calls_duration</th>\n",
       "      <th>num_messages</th>\n",
       "    </tr>\n",
       "  </thead>\n",
       "  <tbody>\n",
       "    <tr>\n",
       "      <th>0</th>\n",
       "      <td>1000</td>\n",
       "      <td>12</td>\n",
       "      <td>16</td>\n",
       "      <td>124.0</td>\n",
       "      <td>11.0</td>\n",
       "    </tr>\n",
       "    <tr>\n",
       "      <th>1</th>\n",
       "      <td>1001</td>\n",
       "      <td>8</td>\n",
       "      <td>27</td>\n",
       "      <td>182.0</td>\n",
       "      <td>30.0</td>\n",
       "    </tr>\n",
       "    <tr>\n",
       "      <th>2</th>\n",
       "      <td>1001</td>\n",
       "      <td>9</td>\n",
       "      <td>49</td>\n",
       "      <td>315.0</td>\n",
       "      <td>44.0</td>\n",
       "    </tr>\n",
       "    <tr>\n",
       "      <th>3</th>\n",
       "      <td>1001</td>\n",
       "      <td>10</td>\n",
       "      <td>65</td>\n",
       "      <td>393.0</td>\n",
       "      <td>53.0</td>\n",
       "    </tr>\n",
       "    <tr>\n",
       "      <th>4</th>\n",
       "      <td>1001</td>\n",
       "      <td>11</td>\n",
       "      <td>64</td>\n",
       "      <td>426.0</td>\n",
       "      <td>36.0</td>\n",
       "    </tr>\n",
       "    <tr>\n",
       "      <th>...</th>\n",
       "      <td>...</td>\n",
       "      <td>...</td>\n",
       "      <td>...</td>\n",
       "      <td>...</td>\n",
       "      <td>...</td>\n",
       "    </tr>\n",
       "    <tr>\n",
       "      <th>2253</th>\n",
       "      <td>1498</td>\n",
       "      <td>12</td>\n",
       "      <td>39</td>\n",
       "      <td>339.0</td>\n",
       "      <td>0.0</td>\n",
       "    </tr>\n",
       "    <tr>\n",
       "      <th>2254</th>\n",
       "      <td>1499</td>\n",
       "      <td>9</td>\n",
       "      <td>41</td>\n",
       "      <td>346.0</td>\n",
       "      <td>0.0</td>\n",
       "    </tr>\n",
       "    <tr>\n",
       "      <th>2255</th>\n",
       "      <td>1499</td>\n",
       "      <td>10</td>\n",
       "      <td>53</td>\n",
       "      <td>385.0</td>\n",
       "      <td>0.0</td>\n",
       "    </tr>\n",
       "    <tr>\n",
       "      <th>2256</th>\n",
       "      <td>1499</td>\n",
       "      <td>11</td>\n",
       "      <td>45</td>\n",
       "      <td>308.0</td>\n",
       "      <td>0.0</td>\n",
       "    </tr>\n",
       "    <tr>\n",
       "      <th>2257</th>\n",
       "      <td>1499</td>\n",
       "      <td>12</td>\n",
       "      <td>65</td>\n",
       "      <td>496.0</td>\n",
       "      <td>0.0</td>\n",
       "    </tr>\n",
       "  </tbody>\n",
       "</table>\n",
       "<p>2258 rows × 5 columns</p>\n",
       "</div>"
      ],
      "text/plain": [
       "      user_id  month  num_calls  total_calls_duration  num_messages\n",
       "0        1000     12         16                 124.0          11.0\n",
       "1        1001      8         27                 182.0          30.0\n",
       "2        1001      9         49                 315.0          44.0\n",
       "3        1001     10         65                 393.0          53.0\n",
       "4        1001     11         64                 426.0          36.0\n",
       "...       ...    ...        ...                   ...           ...\n",
       "2253     1498     12         39                 339.0           0.0\n",
       "2254     1499      9         41                 346.0           0.0\n",
       "2255     1499     10         53                 385.0           0.0\n",
       "2256     1499     11         45                 308.0           0.0\n",
       "2257     1499     12         65                 496.0           0.0\n",
       "\n",
       "[2258 rows x 5 columns]"
      ]
     },
     "execution_count": 20,
     "metadata": {},
     "output_type": "execute_result"
    }
   ],
   "source": [
    "# Calcular el número de mensajes enviados por cada usuario al mes. Guardar el resultado.\n",
    "\n",
    "messages[\"month\"] = messages['message_date'].dt.month\n",
    "\n",
    "monthly_messages = messages.groupby(['user_id', 'month']).size().reset_index(name='num_messages')\n",
    "\n",
    "# Fusionar los DataFrames monthly_service_use y monthly_messages\n",
    "monthly_service_use = pd.merge(monthly_service_use, monthly_messages, on=['user_id', 'month'], how='left')\n",
    "\n",
    "#Reemplazar valores NaN por 0\n",
    "\n",
    "monthly_service_use['num_messages'].fillna(0, inplace=True) \n",
    "\n",
    "monthly_service_use\n",
    "\n",
    "\n"
   ]
  },
  {
   "cell_type": "code",
   "execution_count": 21,
   "metadata": {
    "id": "H1AqN2eG0q1H"
   },
   "outputs": [
    {
     "data": {
      "text/html": [
       "<div>\n",
       "<style scoped>\n",
       "    .dataframe tbody tr th:only-of-type {\n",
       "        vertical-align: middle;\n",
       "    }\n",
       "\n",
       "    .dataframe tbody tr th {\n",
       "        vertical-align: top;\n",
       "    }\n",
       "\n",
       "    .dataframe thead th {\n",
       "        text-align: right;\n",
       "    }\n",
       "</style>\n",
       "<table border=\"1\" class=\"dataframe\">\n",
       "  <thead>\n",
       "    <tr style=\"text-align: right;\">\n",
       "      <th></th>\n",
       "      <th>user_id</th>\n",
       "      <th>month</th>\n",
       "      <th>num_calls</th>\n",
       "      <th>total_calls_duration</th>\n",
       "      <th>num_messages</th>\n",
       "      <th>round_gb</th>\n",
       "    </tr>\n",
       "  </thead>\n",
       "  <tbody>\n",
       "    <tr>\n",
       "      <th>0</th>\n",
       "      <td>1000</td>\n",
       "      <td>12</td>\n",
       "      <td>16</td>\n",
       "      <td>124.0</td>\n",
       "      <td>11.0</td>\n",
       "      <td>2.0</td>\n",
       "    </tr>\n",
       "    <tr>\n",
       "      <th>1</th>\n",
       "      <td>1001</td>\n",
       "      <td>8</td>\n",
       "      <td>27</td>\n",
       "      <td>182.0</td>\n",
       "      <td>30.0</td>\n",
       "      <td>7.0</td>\n",
       "    </tr>\n",
       "    <tr>\n",
       "      <th>2</th>\n",
       "      <td>1001</td>\n",
       "      <td>9</td>\n",
       "      <td>49</td>\n",
       "      <td>315.0</td>\n",
       "      <td>44.0</td>\n",
       "      <td>14.0</td>\n",
       "    </tr>\n",
       "    <tr>\n",
       "      <th>3</th>\n",
       "      <td>1001</td>\n",
       "      <td>10</td>\n",
       "      <td>65</td>\n",
       "      <td>393.0</td>\n",
       "      <td>53.0</td>\n",
       "      <td>22.0</td>\n",
       "    </tr>\n",
       "    <tr>\n",
       "      <th>4</th>\n",
       "      <td>1001</td>\n",
       "      <td>11</td>\n",
       "      <td>64</td>\n",
       "      <td>426.0</td>\n",
       "      <td>36.0</td>\n",
       "      <td>19.0</td>\n",
       "    </tr>\n",
       "    <tr>\n",
       "      <th>...</th>\n",
       "      <td>...</td>\n",
       "      <td>...</td>\n",
       "      <td>...</td>\n",
       "      <td>...</td>\n",
       "      <td>...</td>\n",
       "      <td>...</td>\n",
       "    </tr>\n",
       "    <tr>\n",
       "      <th>2253</th>\n",
       "      <td>1498</td>\n",
       "      <td>12</td>\n",
       "      <td>39</td>\n",
       "      <td>339.0</td>\n",
       "      <td>0.0</td>\n",
       "      <td>23.0</td>\n",
       "    </tr>\n",
       "    <tr>\n",
       "      <th>2254</th>\n",
       "      <td>1499</td>\n",
       "      <td>9</td>\n",
       "      <td>41</td>\n",
       "      <td>346.0</td>\n",
       "      <td>0.0</td>\n",
       "      <td>13.0</td>\n",
       "    </tr>\n",
       "    <tr>\n",
       "      <th>2255</th>\n",
       "      <td>1499</td>\n",
       "      <td>10</td>\n",
       "      <td>53</td>\n",
       "      <td>385.0</td>\n",
       "      <td>0.0</td>\n",
       "      <td>20.0</td>\n",
       "    </tr>\n",
       "    <tr>\n",
       "      <th>2256</th>\n",
       "      <td>1499</td>\n",
       "      <td>11</td>\n",
       "      <td>45</td>\n",
       "      <td>308.0</td>\n",
       "      <td>0.0</td>\n",
       "      <td>17.0</td>\n",
       "    </tr>\n",
       "    <tr>\n",
       "      <th>2257</th>\n",
       "      <td>1499</td>\n",
       "      <td>12</td>\n",
       "      <td>65</td>\n",
       "      <td>496.0</td>\n",
       "      <td>0.0</td>\n",
       "      <td>22.0</td>\n",
       "    </tr>\n",
       "  </tbody>\n",
       "</table>\n",
       "<p>2258 rows × 6 columns</p>\n",
       "</div>"
      ],
      "text/plain": [
       "      user_id  month  num_calls  total_calls_duration  num_messages  round_gb\n",
       "0        1000     12         16                 124.0          11.0       2.0\n",
       "1        1001      8         27                 182.0          30.0       7.0\n",
       "2        1001      9         49                 315.0          44.0      14.0\n",
       "3        1001     10         65                 393.0          53.0      22.0\n",
       "4        1001     11         64                 426.0          36.0      19.0\n",
       "...       ...    ...        ...                   ...           ...       ...\n",
       "2253     1498     12         39                 339.0           0.0      23.0\n",
       "2254     1499      9         41                 346.0           0.0      13.0\n",
       "2255     1499     10         53                 385.0           0.0      20.0\n",
       "2256     1499     11         45                 308.0           0.0      17.0\n",
       "2257     1499     12         65                 496.0           0.0      22.0\n",
       "\n",
       "[2258 rows x 6 columns]"
      ]
     },
     "execution_count": 21,
     "metadata": {},
     "output_type": "execute_result"
    }
   ],
   "source": [
    "# Calcula el volumen del tráfico de Internet usado por cada usuario al mes. Guarda el resultado.\n",
    "\n",
    "internet[\"month\"] = internet['session_date'].dt.month\n",
    "\n",
    "monthly_mb_used = internet.groupby(['user_id', 'month'])[\"mb_used\"].sum().reset_index(name='total_mb_used')\n",
    "\n",
    "#Transformar a GB y redondear ya que las tarifas se calculan en base a GB\n",
    "monthly_mb_used['round_gb'] = np.ceil(monthly_mb_used['total_mb_used'] / 1024)\n",
    "\n",
    "# Fusionar los DataFrames monthly_service_use y monthly_mb_used\n",
    "monthly_service_use = pd.merge(monthly_service_use, monthly_mb_used[['user_id', 'month', 'round_gb']], on=['user_id', 'month'], how='left')\n",
    "\n",
    "monthly_service_use['round_gb'].fillna(0, inplace=True) \n",
    "\n",
    "monthly_service_use"
   ]
  },
  {
   "cell_type": "code",
   "execution_count": 22,
   "metadata": {
    "id": "FW99ykyf0q1H"
   },
   "outputs": [
    {
     "data": {
      "text/html": [
       "<div>\n",
       "<style scoped>\n",
       "    .dataframe tbody tr th:only-of-type {\n",
       "        vertical-align: middle;\n",
       "    }\n",
       "\n",
       "    .dataframe tbody tr th {\n",
       "        vertical-align: top;\n",
       "    }\n",
       "\n",
       "    .dataframe thead th {\n",
       "        text-align: right;\n",
       "    }\n",
       "</style>\n",
       "<table border=\"1\" class=\"dataframe\">\n",
       "  <thead>\n",
       "    <tr style=\"text-align: right;\">\n",
       "      <th></th>\n",
       "      <th>user_id</th>\n",
       "      <th>month</th>\n",
       "      <th>num_calls</th>\n",
       "      <th>total_calls_duration</th>\n",
       "      <th>num_messages</th>\n",
       "      <th>round_gb</th>\n",
       "    </tr>\n",
       "  </thead>\n",
       "  <tbody>\n",
       "    <tr>\n",
       "      <th>0</th>\n",
       "      <td>1000</td>\n",
       "      <td>12</td>\n",
       "      <td>16</td>\n",
       "      <td>124.0</td>\n",
       "      <td>11.0</td>\n",
       "      <td>2.0</td>\n",
       "    </tr>\n",
       "    <tr>\n",
       "      <th>1</th>\n",
       "      <td>1001</td>\n",
       "      <td>8</td>\n",
       "      <td>27</td>\n",
       "      <td>182.0</td>\n",
       "      <td>30.0</td>\n",
       "      <td>7.0</td>\n",
       "    </tr>\n",
       "    <tr>\n",
       "      <th>2</th>\n",
       "      <td>1001</td>\n",
       "      <td>9</td>\n",
       "      <td>49</td>\n",
       "      <td>315.0</td>\n",
       "      <td>44.0</td>\n",
       "      <td>14.0</td>\n",
       "    </tr>\n",
       "    <tr>\n",
       "      <th>3</th>\n",
       "      <td>1001</td>\n",
       "      <td>10</td>\n",
       "      <td>65</td>\n",
       "      <td>393.0</td>\n",
       "      <td>53.0</td>\n",
       "      <td>22.0</td>\n",
       "    </tr>\n",
       "    <tr>\n",
       "      <th>4</th>\n",
       "      <td>1001</td>\n",
       "      <td>11</td>\n",
       "      <td>64</td>\n",
       "      <td>426.0</td>\n",
       "      <td>36.0</td>\n",
       "      <td>19.0</td>\n",
       "    </tr>\n",
       "    <tr>\n",
       "      <th>...</th>\n",
       "      <td>...</td>\n",
       "      <td>...</td>\n",
       "      <td>...</td>\n",
       "      <td>...</td>\n",
       "      <td>...</td>\n",
       "      <td>...</td>\n",
       "    </tr>\n",
       "    <tr>\n",
       "      <th>2253</th>\n",
       "      <td>1498</td>\n",
       "      <td>12</td>\n",
       "      <td>39</td>\n",
       "      <td>339.0</td>\n",
       "      <td>0.0</td>\n",
       "      <td>23.0</td>\n",
       "    </tr>\n",
       "    <tr>\n",
       "      <th>2254</th>\n",
       "      <td>1499</td>\n",
       "      <td>9</td>\n",
       "      <td>41</td>\n",
       "      <td>346.0</td>\n",
       "      <td>0.0</td>\n",
       "      <td>13.0</td>\n",
       "    </tr>\n",
       "    <tr>\n",
       "      <th>2255</th>\n",
       "      <td>1499</td>\n",
       "      <td>10</td>\n",
       "      <td>53</td>\n",
       "      <td>385.0</td>\n",
       "      <td>0.0</td>\n",
       "      <td>20.0</td>\n",
       "    </tr>\n",
       "    <tr>\n",
       "      <th>2256</th>\n",
       "      <td>1499</td>\n",
       "      <td>11</td>\n",
       "      <td>45</td>\n",
       "      <td>308.0</td>\n",
       "      <td>0.0</td>\n",
       "      <td>17.0</td>\n",
       "    </tr>\n",
       "    <tr>\n",
       "      <th>2257</th>\n",
       "      <td>1499</td>\n",
       "      <td>12</td>\n",
       "      <td>65</td>\n",
       "      <td>496.0</td>\n",
       "      <td>0.0</td>\n",
       "      <td>22.0</td>\n",
       "    </tr>\n",
       "  </tbody>\n",
       "</table>\n",
       "<p>2258 rows × 6 columns</p>\n",
       "</div>"
      ],
      "text/plain": [
       "      user_id  month  num_calls  total_calls_duration  num_messages  round_gb\n",
       "0        1000     12         16                 124.0          11.0       2.0\n",
       "1        1001      8         27                 182.0          30.0       7.0\n",
       "2        1001      9         49                 315.0          44.0      14.0\n",
       "3        1001     10         65                 393.0          53.0      22.0\n",
       "4        1001     11         64                 426.0          36.0      19.0\n",
       "...       ...    ...        ...                   ...           ...       ...\n",
       "2253     1498     12         39                 339.0           0.0      23.0\n",
       "2254     1499      9         41                 346.0           0.0      13.0\n",
       "2255     1499     10         53                 385.0           0.0      20.0\n",
       "2256     1499     11         45                 308.0           0.0      17.0\n",
       "2257     1499     12         65                 496.0           0.0      22.0\n",
       "\n",
       "[2258 rows x 6 columns]"
      ]
     },
     "execution_count": 22,
     "metadata": {},
     "output_type": "execute_result"
    }
   ],
   "source": [
    "# Mostrar la tabla donde cada fila representa el consumo de cada usuario  de llamadas, minutos, mensajes e Internet con base en user_id y month\n",
    "monthly_service_use\n"
   ]
  },
  {
   "cell_type": "code",
   "execution_count": 23,
   "metadata": {
    "id": "0dNOXHag0q1H"
   },
   "outputs": [
    {
     "data": {
      "text/html": [
       "<div>\n",
       "<style scoped>\n",
       "    .dataframe tbody tr th:only-of-type {\n",
       "        vertical-align: middle;\n",
       "    }\n",
       "\n",
       "    .dataframe tbody tr th {\n",
       "        vertical-align: top;\n",
       "    }\n",
       "\n",
       "    .dataframe thead th {\n",
       "        text-align: right;\n",
       "    }\n",
       "</style>\n",
       "<table border=\"1\" class=\"dataframe\">\n",
       "  <thead>\n",
       "    <tr style=\"text-align: right;\">\n",
       "      <th></th>\n",
       "      <th>user_id</th>\n",
       "      <th>month</th>\n",
       "      <th>num_calls</th>\n",
       "      <th>total_calls_duration</th>\n",
       "      <th>num_messages</th>\n",
       "      <th>round_gb</th>\n",
       "      <th>plan</th>\n",
       "    </tr>\n",
       "  </thead>\n",
       "  <tbody>\n",
       "    <tr>\n",
       "      <th>0</th>\n",
       "      <td>1000</td>\n",
       "      <td>12.0</td>\n",
       "      <td>16.0</td>\n",
       "      <td>124.0</td>\n",
       "      <td>11.0</td>\n",
       "      <td>2.0</td>\n",
       "      <td>ultimate</td>\n",
       "    </tr>\n",
       "    <tr>\n",
       "      <th>1</th>\n",
       "      <td>1001</td>\n",
       "      <td>8.0</td>\n",
       "      <td>27.0</td>\n",
       "      <td>182.0</td>\n",
       "      <td>30.0</td>\n",
       "      <td>7.0</td>\n",
       "      <td>surf</td>\n",
       "    </tr>\n",
       "    <tr>\n",
       "      <th>2</th>\n",
       "      <td>1001</td>\n",
       "      <td>9.0</td>\n",
       "      <td>49.0</td>\n",
       "      <td>315.0</td>\n",
       "      <td>44.0</td>\n",
       "      <td>14.0</td>\n",
       "      <td>surf</td>\n",
       "    </tr>\n",
       "    <tr>\n",
       "      <th>3</th>\n",
       "      <td>1001</td>\n",
       "      <td>10.0</td>\n",
       "      <td>65.0</td>\n",
       "      <td>393.0</td>\n",
       "      <td>53.0</td>\n",
       "      <td>22.0</td>\n",
       "      <td>surf</td>\n",
       "    </tr>\n",
       "    <tr>\n",
       "      <th>4</th>\n",
       "      <td>1001</td>\n",
       "      <td>11.0</td>\n",
       "      <td>64.0</td>\n",
       "      <td>426.0</td>\n",
       "      <td>36.0</td>\n",
       "      <td>19.0</td>\n",
       "      <td>surf</td>\n",
       "    </tr>\n",
       "    <tr>\n",
       "      <th>...</th>\n",
       "      <td>...</td>\n",
       "      <td>...</td>\n",
       "      <td>...</td>\n",
       "      <td>...</td>\n",
       "      <td>...</td>\n",
       "      <td>...</td>\n",
       "      <td>...</td>\n",
       "    </tr>\n",
       "    <tr>\n",
       "      <th>2272</th>\n",
       "      <td>1319</td>\n",
       "      <td>NaN</td>\n",
       "      <td>NaN</td>\n",
       "      <td>NaN</td>\n",
       "      <td>NaN</td>\n",
       "      <td>NaN</td>\n",
       "      <td>surf</td>\n",
       "    </tr>\n",
       "    <tr>\n",
       "      <th>2273</th>\n",
       "      <td>1349</td>\n",
       "      <td>NaN</td>\n",
       "      <td>NaN</td>\n",
       "      <td>NaN</td>\n",
       "      <td>NaN</td>\n",
       "      <td>NaN</td>\n",
       "      <td>surf</td>\n",
       "    </tr>\n",
       "    <tr>\n",
       "      <th>2274</th>\n",
       "      <td>1378</td>\n",
       "      <td>NaN</td>\n",
       "      <td>NaN</td>\n",
       "      <td>NaN</td>\n",
       "      <td>NaN</td>\n",
       "      <td>NaN</td>\n",
       "      <td>surf</td>\n",
       "    </tr>\n",
       "    <tr>\n",
       "      <th>2275</th>\n",
       "      <td>1463</td>\n",
       "      <td>NaN</td>\n",
       "      <td>NaN</td>\n",
       "      <td>NaN</td>\n",
       "      <td>NaN</td>\n",
       "      <td>NaN</td>\n",
       "      <td>ultimate</td>\n",
       "    </tr>\n",
       "    <tr>\n",
       "      <th>2276</th>\n",
       "      <td>1473</td>\n",
       "      <td>NaN</td>\n",
       "      <td>NaN</td>\n",
       "      <td>NaN</td>\n",
       "      <td>NaN</td>\n",
       "      <td>NaN</td>\n",
       "      <td>surf</td>\n",
       "    </tr>\n",
       "  </tbody>\n",
       "</table>\n",
       "<p>2277 rows × 7 columns</p>\n",
       "</div>"
      ],
      "text/plain": [
       "      user_id  month  num_calls  total_calls_duration  num_messages  round_gb  \\\n",
       "0        1000   12.0       16.0                 124.0          11.0       2.0   \n",
       "1        1001    8.0       27.0                 182.0          30.0       7.0   \n",
       "2        1001    9.0       49.0                 315.0          44.0      14.0   \n",
       "3        1001   10.0       65.0                 393.0          53.0      22.0   \n",
       "4        1001   11.0       64.0                 426.0          36.0      19.0   \n",
       "...       ...    ...        ...                   ...           ...       ...   \n",
       "2272     1319    NaN        NaN                   NaN           NaN       NaN   \n",
       "2273     1349    NaN        NaN                   NaN           NaN       NaN   \n",
       "2274     1378    NaN        NaN                   NaN           NaN       NaN   \n",
       "2275     1463    NaN        NaN                   NaN           NaN       NaN   \n",
       "2276     1473    NaN        NaN                   NaN           NaN       NaN   \n",
       "\n",
       "          plan  \n",
       "0     ultimate  \n",
       "1         surf  \n",
       "2         surf  \n",
       "3         surf  \n",
       "4         surf  \n",
       "...        ...  \n",
       "2272      surf  \n",
       "2273      surf  \n",
       "2274      surf  \n",
       "2275  ultimate  \n",
       "2276      surf  \n",
       "\n",
       "[2277 rows x 7 columns]"
      ]
     },
     "execution_count": 23,
     "metadata": {},
     "output_type": "execute_result"
    }
   ],
   "source": [
    "# Añadir la información de la tarifa\n",
    "\n",
    "monthly_service_use = monthly_service_use.merge(users[['user_id', 'plan']], on='user_id', how='outer')\n",
    "\n",
    "\n",
    "monthly_service_use\n"
   ]
  },
  {
   "cell_type": "markdown",
   "metadata": {
    "id": "1IwGo4wg0q1I"
   },
   "source": [
    "Ahora nos adentraremos en el cálculo de los ingresos mensuales por usuario. Este proceso nos permitirá posteriormente agrupar a los usuarios según su tarifa y realizar comparaciones relevantes para el análisis. Crearemos una nueva columna llamada `income` donde almacenaremos esta información."
   ]
  },
  {
   "cell_type": "code",
   "execution_count": 24,
   "metadata": {
    "id": "5FGCf_c60q1I"
   },
   "outputs": [
    {
     "data": {
      "text/html": [
       "<div>\n",
       "<style scoped>\n",
       "    .dataframe tbody tr th:only-of-type {\n",
       "        vertical-align: middle;\n",
       "    }\n",
       "\n",
       "    .dataframe tbody tr th {\n",
       "        vertical-align: top;\n",
       "    }\n",
       "\n",
       "    .dataframe thead th {\n",
       "        text-align: right;\n",
       "    }\n",
       "</style>\n",
       "<table border=\"1\" class=\"dataframe\">\n",
       "  <thead>\n",
       "    <tr style=\"text-align: right;\">\n",
       "      <th></th>\n",
       "      <th>user_id</th>\n",
       "      <th>month</th>\n",
       "      <th>num_calls</th>\n",
       "      <th>total_calls_duration</th>\n",
       "      <th>num_messages</th>\n",
       "      <th>round_gb</th>\n",
       "      <th>plan</th>\n",
       "      <th>income</th>\n",
       "    </tr>\n",
       "  </thead>\n",
       "  <tbody>\n",
       "    <tr>\n",
       "      <th>1007</th>\n",
       "      <td>1216</td>\n",
       "      <td>9.0</td>\n",
       "      <td>15.0</td>\n",
       "      <td>100.0</td>\n",
       "      <td>0.0</td>\n",
       "      <td>5.0</td>\n",
       "      <td>surf</td>\n",
       "      <td>20.00</td>\n",
       "    </tr>\n",
       "    <tr>\n",
       "      <th>1876</th>\n",
       "      <td>1408</td>\n",
       "      <td>3.0</td>\n",
       "      <td>73.0</td>\n",
       "      <td>526.0</td>\n",
       "      <td>36.0</td>\n",
       "      <td>17.0</td>\n",
       "      <td>surf</td>\n",
       "      <td>40.00</td>\n",
       "    </tr>\n",
       "    <tr>\n",
       "      <th>1068</th>\n",
       "      <td>1232</td>\n",
       "      <td>8.0</td>\n",
       "      <td>79.0</td>\n",
       "      <td>635.0</td>\n",
       "      <td>0.0</td>\n",
       "      <td>16.0</td>\n",
       "      <td>surf</td>\n",
       "      <td>30.00</td>\n",
       "    </tr>\n",
       "    <tr>\n",
       "      <th>1885</th>\n",
       "      <td>1408</td>\n",
       "      <td>12.0</td>\n",
       "      <td>66.0</td>\n",
       "      <td>486.0</td>\n",
       "      <td>32.0</td>\n",
       "      <td>15.0</td>\n",
       "      <td>surf</td>\n",
       "      <td>20.00</td>\n",
       "    </tr>\n",
       "    <tr>\n",
       "      <th>1152</th>\n",
       "      <td>1251</td>\n",
       "      <td>8.0</td>\n",
       "      <td>83.0</td>\n",
       "      <td>614.0</td>\n",
       "      <td>20.0</td>\n",
       "      <td>34.0</td>\n",
       "      <td>surf</td>\n",
       "      <td>210.00</td>\n",
       "    </tr>\n",
       "    <tr>\n",
       "      <th>2014</th>\n",
       "      <td>1440</td>\n",
       "      <td>8.0</td>\n",
       "      <td>89.0</td>\n",
       "      <td>698.0</td>\n",
       "      <td>40.0</td>\n",
       "      <td>22.0</td>\n",
       "      <td>surf</td>\n",
       "      <td>90.00</td>\n",
       "    </tr>\n",
       "    <tr>\n",
       "      <th>780</th>\n",
       "      <td>1167</td>\n",
       "      <td>5.0</td>\n",
       "      <td>18.0</td>\n",
       "      <td>176.0</td>\n",
       "      <td>16.0</td>\n",
       "      <td>4.0</td>\n",
       "      <td>surf</td>\n",
       "      <td>20.00</td>\n",
       "    </tr>\n",
       "    <tr>\n",
       "      <th>1845</th>\n",
       "      <td>1403</td>\n",
       "      <td>7.0</td>\n",
       "      <td>17.0</td>\n",
       "      <td>134.0</td>\n",
       "      <td>0.0</td>\n",
       "      <td>18.0</td>\n",
       "      <td>ultimate</td>\n",
       "      <td>70.00</td>\n",
       "    </tr>\n",
       "    <tr>\n",
       "      <th>463</th>\n",
       "      <td>1099</td>\n",
       "      <td>10.0</td>\n",
       "      <td>72.0</td>\n",
       "      <td>515.0</td>\n",
       "      <td>24.0</td>\n",
       "      <td>20.0</td>\n",
       "      <td>surf</td>\n",
       "      <td>70.00</td>\n",
       "    </tr>\n",
       "    <tr>\n",
       "      <th>1104</th>\n",
       "      <td>1241</td>\n",
       "      <td>9.0</td>\n",
       "      <td>72.0</td>\n",
       "      <td>485.0</td>\n",
       "      <td>20.0</td>\n",
       "      <td>9.0</td>\n",
       "      <td>surf</td>\n",
       "      <td>20.00</td>\n",
       "    </tr>\n",
       "    <tr>\n",
       "      <th>1053</th>\n",
       "      <td>1228</td>\n",
       "      <td>11.0</td>\n",
       "      <td>73.0</td>\n",
       "      <td>473.0</td>\n",
       "      <td>3.0</td>\n",
       "      <td>13.0</td>\n",
       "      <td>surf</td>\n",
       "      <td>20.00</td>\n",
       "    </tr>\n",
       "    <tr>\n",
       "      <th>977</th>\n",
       "      <td>1211</td>\n",
       "      <td>7.0</td>\n",
       "      <td>25.0</td>\n",
       "      <td>171.0</td>\n",
       "      <td>41.0</td>\n",
       "      <td>15.0</td>\n",
       "      <td>ultimate</td>\n",
       "      <td>70.00</td>\n",
       "    </tr>\n",
       "    <tr>\n",
       "      <th>972</th>\n",
       "      <td>1209</td>\n",
       "      <td>12.0</td>\n",
       "      <td>111.0</td>\n",
       "      <td>682.0</td>\n",
       "      <td>26.0</td>\n",
       "      <td>23.0</td>\n",
       "      <td>surf</td>\n",
       "      <td>100.00</td>\n",
       "    </tr>\n",
       "    <tr>\n",
       "      <th>929</th>\n",
       "      <td>1198</td>\n",
       "      <td>11.0</td>\n",
       "      <td>54.0</td>\n",
       "      <td>448.0</td>\n",
       "      <td>6.0</td>\n",
       "      <td>15.0</td>\n",
       "      <td>surf</td>\n",
       "      <td>20.00</td>\n",
       "    </tr>\n",
       "    <tr>\n",
       "      <th>1269</th>\n",
       "      <td>1277</td>\n",
       "      <td>5.0</td>\n",
       "      <td>102.0</td>\n",
       "      <td>791.0</td>\n",
       "      <td>0.0</td>\n",
       "      <td>23.0</td>\n",
       "      <td>surf</td>\n",
       "      <td>100.00</td>\n",
       "    </tr>\n",
       "    <tr>\n",
       "      <th>619</th>\n",
       "      <td>1133</td>\n",
       "      <td>12.0</td>\n",
       "      <td>43.0</td>\n",
       "      <td>259.0</td>\n",
       "      <td>85.0</td>\n",
       "      <td>13.0</td>\n",
       "      <td>ultimate</td>\n",
       "      <td>70.00</td>\n",
       "    </tr>\n",
       "    <tr>\n",
       "      <th>276</th>\n",
       "      <td>1062</td>\n",
       "      <td>4.0</td>\n",
       "      <td>46.0</td>\n",
       "      <td>301.0</td>\n",
       "      <td>5.0</td>\n",
       "      <td>15.0</td>\n",
       "      <td>ultimate</td>\n",
       "      <td>70.00</td>\n",
       "    </tr>\n",
       "    <tr>\n",
       "      <th>589</th>\n",
       "      <td>1127</td>\n",
       "      <td>8.0</td>\n",
       "      <td>34.0</td>\n",
       "      <td>275.0</td>\n",
       "      <td>9.0</td>\n",
       "      <td>21.0</td>\n",
       "      <td>surf</td>\n",
       "      <td>80.00</td>\n",
       "    </tr>\n",
       "    <tr>\n",
       "      <th>477</th>\n",
       "      <td>1101</td>\n",
       "      <td>10.0</td>\n",
       "      <td>63.0</td>\n",
       "      <td>474.0</td>\n",
       "      <td>78.0</td>\n",
       "      <td>16.0</td>\n",
       "      <td>surf</td>\n",
       "      <td>30.84</td>\n",
       "    </tr>\n",
       "    <tr>\n",
       "      <th>79</th>\n",
       "      <td>1022</td>\n",
       "      <td>9.0</td>\n",
       "      <td>66.0</td>\n",
       "      <td>510.0</td>\n",
       "      <td>0.0</td>\n",
       "      <td>14.0</td>\n",
       "      <td>surf</td>\n",
       "      <td>20.00</td>\n",
       "    </tr>\n",
       "  </tbody>\n",
       "</table>\n",
       "</div>"
      ],
      "text/plain": [
       "      user_id  month  num_calls  total_calls_duration  num_messages  round_gb  \\\n",
       "1007     1216    9.0       15.0                 100.0           0.0       5.0   \n",
       "1876     1408    3.0       73.0                 526.0          36.0      17.0   \n",
       "1068     1232    8.0       79.0                 635.0           0.0      16.0   \n",
       "1885     1408   12.0       66.0                 486.0          32.0      15.0   \n",
       "1152     1251    8.0       83.0                 614.0          20.0      34.0   \n",
       "2014     1440    8.0       89.0                 698.0          40.0      22.0   \n",
       "780      1167    5.0       18.0                 176.0          16.0       4.0   \n",
       "1845     1403    7.0       17.0                 134.0           0.0      18.0   \n",
       "463      1099   10.0       72.0                 515.0          24.0      20.0   \n",
       "1104     1241    9.0       72.0                 485.0          20.0       9.0   \n",
       "1053     1228   11.0       73.0                 473.0           3.0      13.0   \n",
       "977      1211    7.0       25.0                 171.0          41.0      15.0   \n",
       "972      1209   12.0      111.0                 682.0          26.0      23.0   \n",
       "929      1198   11.0       54.0                 448.0           6.0      15.0   \n",
       "1269     1277    5.0      102.0                 791.0           0.0      23.0   \n",
       "619      1133   12.0       43.0                 259.0          85.0      13.0   \n",
       "276      1062    4.0       46.0                 301.0           5.0      15.0   \n",
       "589      1127    8.0       34.0                 275.0           9.0      21.0   \n",
       "477      1101   10.0       63.0                 474.0          78.0      16.0   \n",
       "79       1022    9.0       66.0                 510.0           0.0      14.0   \n",
       "\n",
       "          plan  income  \n",
       "1007      surf   20.00  \n",
       "1876      surf   40.00  \n",
       "1068      surf   30.00  \n",
       "1885      surf   20.00  \n",
       "1152      surf  210.00  \n",
       "2014      surf   90.00  \n",
       "780       surf   20.00  \n",
       "1845  ultimate   70.00  \n",
       "463       surf   70.00  \n",
       "1104      surf   20.00  \n",
       "1053      surf   20.00  \n",
       "977   ultimate   70.00  \n",
       "972       surf  100.00  \n",
       "929       surf   20.00  \n",
       "1269      surf  100.00  \n",
       "619   ultimate   70.00  \n",
       "276   ultimate   70.00  \n",
       "589       surf   80.00  \n",
       "477       surf   30.84  \n",
       "79        surf   20.00  "
      ]
     },
     "execution_count": 24,
     "metadata": {},
     "output_type": "execute_result"
    }
   ],
   "source": [
    "# Calcula el ingreso mensual para cada usuario\n",
    "\n",
    "def calcular_costo_extra(user):\n",
    "    if user[\"plan\"] == \"surf\":\n",
    "        plan = 20\n",
    "        call_price = 0.03\n",
    "        sms_price = 0.03\n",
    "        gb_price = 10\n",
    "        \n",
    "        # Resta el límite del paquete gratuito del número total de llamadas\n",
    "        calls_total = user[\"num_calls\"] - 500\n",
    "        # Resta el límite del paquete gratuito del número total de mensajes de texto\n",
    "        sms_total = user[\"num_messages\"] - 50\n",
    "        # Resta el límite del paquete gratuito del número total de datos\n",
    "        gb_total = user[\"round_gb\"] - 15\n",
    "        \n",
    "        # Calcula el costo extra por llamadas\n",
    "        extra_calls = max(0, calls_total) * call_price\n",
    "        # Calcula el costo extra por mensajes de texto\n",
    "        extra_sms = max(0, sms_total) * sms_price\n",
    "        # Calcula el costo extra por GB de datos\n",
    "        extra_gb = max(0, gb_total) * gb_price\n",
    "        \n",
    "        # Calcula el costo total sumando los costos extra y el costo del plan\n",
    "        result = extra_calls + extra_sms + extra_gb + plan\n",
    "        return result\n",
    "    elif user[\"plan\"] == \"ultimate\":\n",
    "        plan = 70\n",
    "        call_price = 0.01\n",
    "        sms_price = 0.01\n",
    "        gb_price = 7\n",
    "        \n",
    "        # Resta el límite del paquete gratuito del número total de llamadas\n",
    "        calls_total = user[\"num_calls\"] - 3000\n",
    "        # Resta el límite del paquete gratuito del número total de mensajes de texto\n",
    "        sms_total = user[\"num_messages\"] - 1000\n",
    "        # Resta el límite del paquete gratuito del número total de datos\n",
    "        gb_total = user[\"round_gb\"] - 30\n",
    "        \n",
    "        # Calcula el costo extra por llamadas\n",
    "        extra_calls = max(0, calls_total) * call_price\n",
    "        # Calcula el costo extra por mensajes de texto\n",
    "        extra_sms = max(0, sms_total) * sms_price\n",
    "        # Calcula el costo extra por GB de datos\n",
    "        extra_gb = max(0, gb_total) * gb_price\n",
    "        \n",
    "        # Calcula el costo total sumando los costos extra y el costo del plan\n",
    "        result = extra_calls + extra_sms + extra_gb + plan\n",
    "        return result\n",
    "        \n",
    "        \n",
    "monthly_service_use[\"income\"] = monthly_service_use.apply(calcular_costo_extra, axis=1)\n",
    "\n",
    "\n",
    "monthly_service_use.sample(20)"
   ]
  },
  {
   "cell_type": "markdown",
   "metadata": {
    "id": "-jtyHzJb0q1I"
   },
   "source": [
    "## Estudia el comportamiento de usuario"
   ]
  },
  {
   "cell_type": "markdown",
   "metadata": {
    "id": "AxU3Y0N70q1J"
   },
   "source": [
    "Ahora nos enfocaremos en calcular algunas estadísticas descriptivas para el consumo de llamadas, mensajes e internet. También crearemos gráficos que sean útiles para facilitar la comprensión. Dado que la tarea principal es comparar las tarifas y decidir cuál es más rentable, las estadísticas y gráficas deben calcularse por tarifa. Además, consideraremos otros aspectos relevantes para el análisis, como la distribución del consumo por período y la variación mensual en el uso de servicios."
   ]
  },
  {
   "cell_type": "markdown",
   "metadata": {
    "id": "vtW4CJEe0q1J"
   },
   "source": [
    "### Llamadas"
   ]
  },
  {
   "cell_type": "code",
   "execution_count": 25,
   "metadata": {
    "id": "Jf5v5--k0q1J"
   },
   "outputs": [
    {
     "data": {
      "text/html": [
       "<div>\n",
       "<style scoped>\n",
       "    .dataframe tbody tr th:only-of-type {\n",
       "        vertical-align: middle;\n",
       "    }\n",
       "\n",
       "    .dataframe tbody tr th {\n",
       "        vertical-align: top;\n",
       "    }\n",
       "\n",
       "    .dataframe thead th {\n",
       "        text-align: right;\n",
       "    }\n",
       "</style>\n",
       "<table border=\"1\" class=\"dataframe\">\n",
       "  <thead>\n",
       "    <tr style=\"text-align: right;\">\n",
       "      <th></th>\n",
       "      <th>plan</th>\n",
       "      <th>month</th>\n",
       "      <th>total_calls_duration</th>\n",
       "    </tr>\n",
       "  </thead>\n",
       "  <tbody>\n",
       "    <tr>\n",
       "      <th>0</th>\n",
       "      <td>surf</td>\n",
       "      <td>1.0</td>\n",
       "      <td>203.000000</td>\n",
       "    </tr>\n",
       "    <tr>\n",
       "      <th>1</th>\n",
       "      <td>surf</td>\n",
       "      <td>2.0</td>\n",
       "      <td>297.000000</td>\n",
       "    </tr>\n",
       "    <tr>\n",
       "      <th>2</th>\n",
       "      <td>surf</td>\n",
       "      <td>3.0</td>\n",
       "      <td>330.000000</td>\n",
       "    </tr>\n",
       "    <tr>\n",
       "      <th>3</th>\n",
       "      <td>surf</td>\n",
       "      <td>4.0</td>\n",
       "      <td>351.540000</td>\n",
       "    </tr>\n",
       "    <tr>\n",
       "      <th>4</th>\n",
       "      <td>surf</td>\n",
       "      <td>5.0</td>\n",
       "      <td>410.240000</td>\n",
       "    </tr>\n",
       "    <tr>\n",
       "      <th>5</th>\n",
       "      <td>surf</td>\n",
       "      <td>6.0</td>\n",
       "      <td>435.791667</td>\n",
       "    </tr>\n",
       "    <tr>\n",
       "      <th>6</th>\n",
       "      <td>surf</td>\n",
       "      <td>7.0</td>\n",
       "      <td>453.733333</td>\n",
       "    </tr>\n",
       "    <tr>\n",
       "      <th>7</th>\n",
       "      <td>surf</td>\n",
       "      <td>8.0</td>\n",
       "      <td>417.849057</td>\n",
       "    </tr>\n",
       "    <tr>\n",
       "      <th>8</th>\n",
       "      <td>surf</td>\n",
       "      <td>9.0</td>\n",
       "      <td>420.732984</td>\n",
       "    </tr>\n",
       "    <tr>\n",
       "      <th>9</th>\n",
       "      <td>surf</td>\n",
       "      <td>10.0</td>\n",
       "      <td>438.991379</td>\n",
       "    </tr>\n",
       "    <tr>\n",
       "      <th>10</th>\n",
       "      <td>surf</td>\n",
       "      <td>11.0</td>\n",
       "      <td>432.494585</td>\n",
       "    </tr>\n",
       "    <tr>\n",
       "      <th>11</th>\n",
       "      <td>surf</td>\n",
       "      <td>12.0</td>\n",
       "      <td>484.501608</td>\n",
       "    </tr>\n",
       "    <tr>\n",
       "      <th>12</th>\n",
       "      <td>ultimate</td>\n",
       "      <td>1.0</td>\n",
       "      <td>193.500000</td>\n",
       "    </tr>\n",
       "    <tr>\n",
       "      <th>13</th>\n",
       "      <td>ultimate</td>\n",
       "      <td>2.0</td>\n",
       "      <td>470.333333</td>\n",
       "    </tr>\n",
       "    <tr>\n",
       "      <th>14</th>\n",
       "      <td>ultimate</td>\n",
       "      <td>3.0</td>\n",
       "      <td>304.250000</td>\n",
       "    </tr>\n",
       "    <tr>\n",
       "      <th>15</th>\n",
       "      <td>ultimate</td>\n",
       "      <td>4.0</td>\n",
       "      <td>336.857143</td>\n",
       "    </tr>\n",
       "    <tr>\n",
       "      <th>16</th>\n",
       "      <td>ultimate</td>\n",
       "      <td>5.0</td>\n",
       "      <td>406.241379</td>\n",
       "    </tr>\n",
       "    <tr>\n",
       "      <th>17</th>\n",
       "      <td>ultimate</td>\n",
       "      <td>6.0</td>\n",
       "      <td>387.444444</td>\n",
       "    </tr>\n",
       "    <tr>\n",
       "      <th>18</th>\n",
       "      <td>ultimate</td>\n",
       "      <td>7.0</td>\n",
       "      <td>427.067797</td>\n",
       "    </tr>\n",
       "    <tr>\n",
       "      <th>19</th>\n",
       "      <td>ultimate</td>\n",
       "      <td>8.0</td>\n",
       "      <td>421.436620</td>\n",
       "    </tr>\n",
       "    <tr>\n",
       "      <th>20</th>\n",
       "      <td>ultimate</td>\n",
       "      <td>9.0</td>\n",
       "      <td>437.511628</td>\n",
       "    </tr>\n",
       "    <tr>\n",
       "      <th>21</th>\n",
       "      <td>ultimate</td>\n",
       "      <td>10.0</td>\n",
       "      <td>455.028571</td>\n",
       "    </tr>\n",
       "    <tr>\n",
       "      <th>22</th>\n",
       "      <td>ultimate</td>\n",
       "      <td>11.0</td>\n",
       "      <td>448.730159</td>\n",
       "    </tr>\n",
       "    <tr>\n",
       "      <th>23</th>\n",
       "      <td>ultimate</td>\n",
       "      <td>12.0</td>\n",
       "      <td>465.261745</td>\n",
       "    </tr>\n",
       "  </tbody>\n",
       "</table>\n",
       "</div>"
      ],
      "text/plain": [
       "        plan  month  total_calls_duration\n",
       "0       surf    1.0            203.000000\n",
       "1       surf    2.0            297.000000\n",
       "2       surf    3.0            330.000000\n",
       "3       surf    4.0            351.540000\n",
       "4       surf    5.0            410.240000\n",
       "5       surf    6.0            435.791667\n",
       "6       surf    7.0            453.733333\n",
       "7       surf    8.0            417.849057\n",
       "8       surf    9.0            420.732984\n",
       "9       surf   10.0            438.991379\n",
       "10      surf   11.0            432.494585\n",
       "11      surf   12.0            484.501608\n",
       "12  ultimate    1.0            193.500000\n",
       "13  ultimate    2.0            470.333333\n",
       "14  ultimate    3.0            304.250000\n",
       "15  ultimate    4.0            336.857143\n",
       "16  ultimate    5.0            406.241379\n",
       "17  ultimate    6.0            387.444444\n",
       "18  ultimate    7.0            427.067797\n",
       "19  ultimate    8.0            421.436620\n",
       "20  ultimate    9.0            437.511628\n",
       "21  ultimate   10.0            455.028571\n",
       "22  ultimate   11.0            448.730159\n",
       "23  ultimate   12.0            465.261745"
      ]
     },
     "execution_count": 25,
     "metadata": {},
     "output_type": "execute_result"
    }
   ],
   "source": [
    "# Compara la duración promedio de llamadas por cada plan y por cada mes. Traza un gráfico de barras para visualizarla.\n",
    "\n",
    "average_monthly_calls = monthly_service_use.groupby([\"plan\",\"month\"])[\"total_calls_duration\"].mean().reset_index()\n",
    "\n",
    "average_monthly_calls\n"
   ]
  },
  {
   "cell_type": "code",
   "execution_count": 26,
   "metadata": {
    "id": "QoLqW1S_0q1J"
   },
   "outputs": [
    {
     "data": {
      "image/png": "[encoded data removed]",
      "text/plain": [
       "<Figure size 1000x600 with 1 Axes>"
      ]
     },
     "metadata": {},
     "output_type": "display_data"
    }
   ],
   "source": [
    "# Comparar el número de minutos mensuales que necesitan los usuarios de cada plan. Trazar un Histograma\n",
    "# Filtrar los datos para el plan \"surf\" y \"ultimate\"\n",
    "\n",
    "surf_data_calls = average_monthly_calls[average_monthly_calls[\"plan\"] == \"surf\"]\n",
    "ultimate_data_calls = average_monthly_calls[average_monthly_calls[\"plan\"] == \"ultimate\"]\n",
    "\n",
    "# Configurar el gráfico\n",
    "plt.figure(figsize=(10, 6))\n",
    "\n",
    "# Graficar los datos para el plan \"surf\"\n",
    "plt.hist(surf_data_calls[\"total_calls_duration\"], bins=10, alpha=0.5, label='Surf')\n",
    "\n",
    "# Graficar los datos para el plan \"ultimate\"\n",
    "plt.hist(ultimate_data_calls[\"total_calls_duration\"], bins=10, alpha=0.5, label='Ultimate')\n",
    "\n",
    "# Añadir etiquetas y título\n",
    "plt.xlabel(\"Duración total promedio de las llamadas\")\n",
    "plt.ylabel(\"Frecuencia\")\n",
    "plt.title(\"Promedio de las llamadas por plan\")\n",
    "plt.legend()\n",
    "plt.grid(True)\n",
    "\n",
    "\n",
    "\n",
    "    "
   ]
  },
  {
   "cell_type": "markdown",
   "metadata": {
    "id": "bLS9T8OH0q1K"
   },
   "source": [
    "Ahora nos enfocaremos en calcular la media y la variabilidad de la duración de las llamadas para averiguar si los usuarios de los distintos planes se comportan de manera diferente al realizar sus llamadas."
   ]
  },
  {
   "cell_type": "code",
   "execution_count": 27,
   "metadata": {
    "id": "oSndbAnt0q1K"
   },
   "outputs": [
    {
     "name": "stdout",
     "output_type": "stream",
     "text": [
      "La media del plan ultimate es de: 396.13856827549125 y la media del plan surf es de: 389.6562177301583\n",
      "La varianza del plan ultimate es de: 6638.451229390735 y la varianza del plan surf es de: 6374.619145867013\n"
     ]
    }
   ],
   "source": [
    "# Calcular la media y la varianza de la duración mensual de llamadas.\n",
    "#Calcular la media de duración de llamadas del plan ultimate\n",
    "mean_calls_ultimate= average_monthly_calls[average_monthly_calls[\"plan\"] == \"ultimate\"][\"total_calls_duration\"].mean()\n",
    "\n",
    "#Calcular la media de duración de llamadas del plan surf\n",
    "mean_calls_surf= average_monthly_calls[average_monthly_calls[\"plan\"] == \"surf\"][\"total_calls_duration\"].mean()\n",
    "\n",
    "#Calcular la varianza de duración de llamadas del plan ultimate\n",
    "var_calls_ultimate =average_monthly_calls[average_monthly_calls[\"plan\"] == \"ultimate\"][\"total_calls_duration\"].var()\n",
    "\n",
    "#Calcular la varianza de duración de llamadas del plan surf\n",
    "var_calls_surf= average_monthly_calls[average_monthly_calls[\"plan\"] == \"surf\"][\"total_calls_duration\"].var()\n",
    "\n",
    "print(f'La media del plan ultimate es de: {mean_calls_ultimate} y la media del plan surf es de: {mean_calls_surf}')\n",
    "\n",
    "print(f'La varianza del plan ultimate es de: {var_calls_ultimate} y la varianza del plan surf es de: {var_calls_surf}')"
   ]
  },
  {
   "cell_type": "code",
   "execution_count": 28,
   "metadata": {
    "id": "nZzoRUKc0q1K"
   },
   "outputs": [
    {
     "data": {
      "image/png": "[encoded data removed]",
      "text/plain": [
       "<Figure size 1000x600 with 2 Axes>"
      ]
     },
     "metadata": {},
     "output_type": "display_data"
    }
   ],
   "source": [
    "# Trazar un diagrama de caja para visualizar la distribución de la duración mensual de llamadas\n",
    "\n",
    "# Crear una figura y ejes para los gráficos de caja\n",
    "fig, axes = plt.subplots(nrows=1, ncols=2, figsize=(10, 6))\n",
    "\n",
    "# Graficar el boxplot para el plan \"Surf\"\n",
    "axes[0].boxplot(surf_data_calls['total_calls_duration'])\n",
    "axes[0].set_title('Boxplot de Duración de Llamadas - Surf')\n",
    "\n",
    "# Graficar el boxplot para el plan \"Ultimate\"\n",
    "axes[1].boxplot(ultimate_data_calls['total_calls_duration'])\n",
    "axes[1].set_title('Boxplot de Duración de Llamadas - Ultimate')\n",
    "\n",
    "# Configurar etiquetas\n",
    "for ax in axes:\n",
    "    ax.set_xlabel('Plan de Telefonía')\n",
    "    ax.set_ylabel('Duración de Llamadas')"
   ]
  },
  {
   "cell_type": "markdown",
   "metadata": {
    "id": "r627zBO50q1K"
   },
   "source": [
    "En base al análisis del histograma, las estadísticas de las medias y varianzas, así como los gráficos de cajas, se observa que la media del plan Ultimate es ligeramente mayor que la del plan Surf, mientras que la varianza del plan Ultimate es ligeramente más alta en comparación con el plan Surf. Sin embargo, ambas distribuciones de datos, representadas tanto en los histogramas como en los gráficos de cajas, muestran una tendencia similar, con una concentración alrededor de las medias calculadas. Esto sugiere que el comportamiento de los usuarios en cuanto a la duración de las llamadas es bastante similar entre ambos planes, lo que refuerza la idea de que no hay una diferencia significativa en el consumo mensual de llamadas entre los dos planes."
   ]
  },
  {
   "cell_type": "markdown",
   "metadata": {
    "id": "8idKy8Wh0q1L"
   },
   "source": [
    "### Mensajes"
   ]
  },
  {
   "cell_type": "code",
   "execution_count": 29,
   "metadata": {
    "id": "NXLxiTit0q1L"
   },
   "outputs": [
    {
     "data": {
      "text/html": [
       "<div>\n",
       "<style scoped>\n",
       "    .dataframe tbody tr th:only-of-type {\n",
       "        vertical-align: middle;\n",
       "    }\n",
       "\n",
       "    .dataframe tbody tr th {\n",
       "        vertical-align: top;\n",
       "    }\n",
       "\n",
       "    .dataframe thead th {\n",
       "        text-align: right;\n",
       "    }\n",
       "</style>\n",
       "<table border=\"1\" class=\"dataframe\">\n",
       "  <thead>\n",
       "    <tr style=\"text-align: right;\">\n",
       "      <th></th>\n",
       "      <th>plan</th>\n",
       "      <th>month</th>\n",
       "      <th>num_messages</th>\n",
       "    </tr>\n",
       "  </thead>\n",
       "  <tbody>\n",
       "    <tr>\n",
       "      <th>0</th>\n",
       "      <td>surf</td>\n",
       "      <td>1.0</td>\n",
       "      <td>10.500000</td>\n",
       "    </tr>\n",
       "    <tr>\n",
       "      <th>1</th>\n",
       "      <td>surf</td>\n",
       "      <td>2.0</td>\n",
       "      <td>12.000000</td>\n",
       "    </tr>\n",
       "    <tr>\n",
       "      <th>2</th>\n",
       "      <td>surf</td>\n",
       "      <td>3.0</td>\n",
       "      <td>15.260870</td>\n",
       "    </tr>\n",
       "    <tr>\n",
       "      <th>3</th>\n",
       "      <td>surf</td>\n",
       "      <td>4.0</td>\n",
       "      <td>17.400000</td>\n",
       "    </tr>\n",
       "    <tr>\n",
       "      <th>4</th>\n",
       "      <td>surf</td>\n",
       "      <td>5.0</td>\n",
       "      <td>24.386667</td>\n",
       "    </tr>\n",
       "    <tr>\n",
       "      <th>5</th>\n",
       "      <td>surf</td>\n",
       "      <td>6.0</td>\n",
       "      <td>25.281250</td>\n",
       "    </tr>\n",
       "    <tr>\n",
       "      <th>6</th>\n",
       "      <td>surf</td>\n",
       "      <td>7.0</td>\n",
       "      <td>27.025000</td>\n",
       "    </tr>\n",
       "    <tr>\n",
       "      <th>7</th>\n",
       "      <td>surf</td>\n",
       "      <td>8.0</td>\n",
       "      <td>28.855346</td>\n",
       "    </tr>\n",
       "    <tr>\n",
       "      <th>8</th>\n",
       "      <td>surf</td>\n",
       "      <td>9.0</td>\n",
       "      <td>30.376963</td>\n",
       "    </tr>\n",
       "    <tr>\n",
       "      <th>9</th>\n",
       "      <td>surf</td>\n",
       "      <td>10.0</td>\n",
       "      <td>33.267241</td>\n",
       "    </tr>\n",
       "    <tr>\n",
       "      <th>10</th>\n",
       "      <td>surf</td>\n",
       "      <td>11.0</td>\n",
       "      <td>32.115523</td>\n",
       "    </tr>\n",
       "    <tr>\n",
       "      <th>11</th>\n",
       "      <td>surf</td>\n",
       "      <td>12.0</td>\n",
       "      <td>38.212219</td>\n",
       "    </tr>\n",
       "    <tr>\n",
       "      <th>12</th>\n",
       "      <td>ultimate</td>\n",
       "      <td>1.0</td>\n",
       "      <td>15.500000</td>\n",
       "    </tr>\n",
       "    <tr>\n",
       "      <th>13</th>\n",
       "      <td>ultimate</td>\n",
       "      <td>2.0</td>\n",
       "      <td>23.166667</td>\n",
       "    </tr>\n",
       "    <tr>\n",
       "      <th>14</th>\n",
       "      <td>ultimate</td>\n",
       "      <td>3.0</td>\n",
       "      <td>20.250000</td>\n",
       "    </tr>\n",
       "    <tr>\n",
       "      <th>15</th>\n",
       "      <td>ultimate</td>\n",
       "      <td>4.0</td>\n",
       "      <td>22.047619</td>\n",
       "    </tr>\n",
       "    <tr>\n",
       "      <th>16</th>\n",
       "      <td>ultimate</td>\n",
       "      <td>5.0</td>\n",
       "      <td>32.103448</td>\n",
       "    </tr>\n",
       "    <tr>\n",
       "      <th>17</th>\n",
       "      <td>ultimate</td>\n",
       "      <td>6.0</td>\n",
       "      <td>30.533333</td>\n",
       "    </tr>\n",
       "    <tr>\n",
       "      <th>18</th>\n",
       "      <td>ultimate</td>\n",
       "      <td>7.0</td>\n",
       "      <td>32.830508</td>\n",
       "    </tr>\n",
       "    <tr>\n",
       "      <th>19</th>\n",
       "      <td>ultimate</td>\n",
       "      <td>8.0</td>\n",
       "      <td>38.478873</td>\n",
       "    </tr>\n",
       "    <tr>\n",
       "      <th>20</th>\n",
       "      <td>ultimate</td>\n",
       "      <td>9.0</td>\n",
       "      <td>37.895349</td>\n",
       "    </tr>\n",
       "    <tr>\n",
       "      <th>21</th>\n",
       "      <td>ultimate</td>\n",
       "      <td>10.0</td>\n",
       "      <td>39.800000</td>\n",
       "    </tr>\n",
       "    <tr>\n",
       "      <th>22</th>\n",
       "      <td>ultimate</td>\n",
       "      <td>11.0</td>\n",
       "      <td>38.579365</td>\n",
       "    </tr>\n",
       "    <tr>\n",
       "      <th>23</th>\n",
       "      <td>ultimate</td>\n",
       "      <td>12.0</td>\n",
       "      <td>45.087248</td>\n",
       "    </tr>\n",
       "  </tbody>\n",
       "</table>\n",
       "</div>"
      ],
      "text/plain": [
       "        plan  month  num_messages\n",
       "0       surf    1.0     10.500000\n",
       "1       surf    2.0     12.000000\n",
       "2       surf    3.0     15.260870\n",
       "3       surf    4.0     17.400000\n",
       "4       surf    5.0     24.386667\n",
       "5       surf    6.0     25.281250\n",
       "6       surf    7.0     27.025000\n",
       "7       surf    8.0     28.855346\n",
       "8       surf    9.0     30.376963\n",
       "9       surf   10.0     33.267241\n",
       "10      surf   11.0     32.115523\n",
       "11      surf   12.0     38.212219\n",
       "12  ultimate    1.0     15.500000\n",
       "13  ultimate    2.0     23.166667\n",
       "14  ultimate    3.0     20.250000\n",
       "15  ultimate    4.0     22.047619\n",
       "16  ultimate    5.0     32.103448\n",
       "17  ultimate    6.0     30.533333\n",
       "18  ultimate    7.0     32.830508\n",
       "19  ultimate    8.0     38.478873\n",
       "20  ultimate    9.0     37.895349\n",
       "21  ultimate   10.0     39.800000\n",
       "22  ultimate   11.0     38.579365\n",
       "23  ultimate   12.0     45.087248"
      ]
     },
     "execution_count": 29,
     "metadata": {},
     "output_type": "execute_result"
    }
   ],
   "source": [
    "# Comparar el número de mensajes que tienden a enviar cada mes los usuarios de cada plan\n",
    "\n",
    "average_monthly_sms = monthly_service_use.groupby([\"plan\",\"month\"])[\"num_messages\"].mean().reset_index()\n",
    "\n",
    "average_monthly_sms\n"
   ]
  },
  {
   "cell_type": "code",
   "execution_count": 30,
   "metadata": {},
   "outputs": [
    {
     "data": {
      "image/png": "[encoded data removed]",
      "text/plain": [
       "<Figure size 1000x600 with 1 Axes>"
      ]
     },
     "metadata": {},
     "output_type": "display_data"
    }
   ],
   "source": [
    "# Comparar el número de mensajes mensuales que necesitan los usuarios de cada plan. Trazar un Histograma\n",
    "# Filtrar los datos para el plan \"surf\" y \"ultimate\"\n",
    "\n",
    "surf_data_sms = average_monthly_sms[average_monthly_sms[\"plan\"] == \"surf\"]\n",
    "ultimate_data_sms = average_monthly_sms[average_monthly_sms[\"plan\"] == \"ultimate\"]\n",
    "\n",
    "# Configurar el gráfico\n",
    "plt.figure(figsize=(10, 6))\n",
    "\n",
    "# Graficar los datos para el plan \"surf\"\n",
    "plt.hist(surf_data_sms[\"num_messages\"], bins=10, alpha=0.5, label='Surf')\n",
    "\n",
    "# Graficar los datos para el plan \"ultimate\"\n",
    "plt.hist(ultimate_data_sms[\"num_messages\"], bins=10, alpha=0.5, label='Ultimate')\n",
    "\n",
    "# Añadir etiquetas y título\n",
    "plt.xlabel(\"Número de mensajes\")\n",
    "plt.ylabel(\"Frecuencia\")\n",
    "plt.title(\"Mensajes por plan\")\n",
    "plt.legend()\n",
    "plt.grid(True)\n"
   ]
  },
  {
   "cell_type": "code",
   "execution_count": 31,
   "metadata": {
    "id": "GRI_R7xF0q1L"
   },
   "outputs": [
    {
     "name": "stdout",
     "output_type": "stream",
     "text": [
      "La media de mensajes del plan ultimate es de: 31.356034273018 y la media del plan surf es de: 24.55675658242926\n",
      "La varianza del plan ultimate es de: 85.2182244500177 y la varianza del plan surf es de: 79.21591746120484\n"
     ]
    }
   ],
   "source": [
    "# Calcular la media y la varianza de mensajes mensuales.\n",
    "\n",
    "#Calcular la media de duración de mensajes del plan ultimate\n",
    "mean_sms_ultimate= average_monthly_sms[average_monthly_sms[\"plan\"] == \"ultimate\"][\"num_messages\"].mean()\n",
    "\n",
    "#Calcular la media de duración de llamadas del plan surf\n",
    "mean_sms_surf= average_monthly_sms[average_monthly_sms[\"plan\"] == \"surf\"][\"num_messages\"].mean()\n",
    "\n",
    "#Calcular la varianza de número de mensajes del plan ultimate\n",
    "var_sms_ultimate =average_monthly_sms[average_monthly_sms[\"plan\"] == \"ultimate\"][\"num_messages\"].var()\n",
    "\n",
    "#Calcular la varianza de duración de llamadas del plan surf\n",
    "var_sms_surf= average_monthly_sms[average_monthly_sms[\"plan\"] == \"surf\"][\"num_messages\"].var()\n",
    "\n",
    "print(f'La media de mensajes del plan ultimate es de: {mean_sms_ultimate} y la media del plan surf es de: {mean_sms_surf}')\n",
    "\n",
    "print(f'La varianza del plan ultimate es de: {var_sms_ultimate} y la varianza del plan surf es de: {var_sms_surf}')\n",
    "\n"
   ]
  },
  {
   "cell_type": "code",
   "execution_count": 32,
   "metadata": {
    "id": "dtFwCGAp0q1M"
   },
   "outputs": [
    {
     "data": {
      "image/png": "[encoded data removed]",
      "text/plain": [
       "<Figure size 1000x600 with 2 Axes>"
      ]
     },
     "metadata": {},
     "output_type": "display_data"
    }
   ],
   "source": [
    "# Trazar un diagrama de caja para visualizar la distribución del número mensal de mensajes\n",
    "\n",
    "# Calcular el rango máximo de mensajes para establecer el mismo rango en ambos gráficos\n",
    "max_messages = max(surf_data_sms[\"num_messages\"].max(), ultimate_data_sms[\"num_messages\"].max())\n",
    "\n",
    "# Crear una figura y ejes para los gráficos de caja\n",
    "plt.figure(figsize=(10, 6))\n",
    "\n",
    "# Graficar el boxplot para el plan \"Surf\"\n",
    "plt.subplot(1, 2, 1)\n",
    "plt.boxplot(surf_data_sms[\"num_messages\"])\n",
    "plt.title('Boxplot de Número de mensajes - Surf')\n",
    "plt.xlabel('Plan de Telefonía')\n",
    "plt.ylabel('Número de mensajes')\n",
    "plt.ylim(0, max_messages)  # Establecer el mismo rango en el eje y para ambos gráficos\n",
    "\n",
    "# Graficar el boxplot para el plan \"Ultimate\"\n",
    "plt.subplot(1, 2, 2)\n",
    "plt.boxplot(ultimate_data_sms[\"num_messages\"])\n",
    "plt.title('Boxplot de Número de mensajes - Ultimate')\n",
    "plt.xlabel('Plan de Telefonía')\n",
    "plt.ylabel('Número de mensajes')\n",
    "plt.ylim(0, max_messages)  # Establecer el mismo rango en el eje y para ambos gráficos\n",
    "\n",
    "plt.tight_layout()\n"
   ]
  },
  {
   "cell_type": "markdown",
   "metadata": {
    "id": "390SSL480q1M"
   },
   "source": [
    "Los datos analizados revelan diferencias significativas en el comportamiento de mensajería entre los usuarios de los planes Surf y Ultimate. La media del número de mensajes para el plan Ultimate es mayor que para el plan Surf, indicando un mayor uso de mensajes por parte de los usuarios de Ultimate. Esta disparidad se ve reflejada en los histogramas, donde el plan Surf muestra un pico alrededor de los 25 mensajes, mientras que el plan Ultimate exhibe dos picos, uno alrededor de los 30 mensajes y otro alrededor de los 35 mensajes. Los diagramas de cajas corroboran estas diferencias, con una mediana más alta y un rango intercuartílico más amplio para el plan Ultimate en comparación con el plan Surf. Además, las varianzas muestran una mayor variabilidad en el número de mensajes para el plan Ultimate. En resumen, los usuarios de Ultimate tienden a enviar más mensajes en promedio y muestran una mayor diversidad en sus patrones de mensajería en comparación con los usuarios de Surf."
   ]
  },
  {
   "cell_type": "markdown",
   "metadata": {
    "id": "42YSypXz0q1M"
   },
   "source": [
    "### Internet"
   ]
  },
  {
   "cell_type": "code",
   "execution_count": 33,
   "metadata": {
    "id": "lSuKPtjh0q1M"
   },
   "outputs": [
    {
     "data": {
      "text/html": [
       "<div>\n",
       "<style scoped>\n",
       "    .dataframe tbody tr th:only-of-type {\n",
       "        vertical-align: middle;\n",
       "    }\n",
       "\n",
       "    .dataframe tbody tr th {\n",
       "        vertical-align: top;\n",
       "    }\n",
       "\n",
       "    .dataframe thead th {\n",
       "        text-align: right;\n",
       "    }\n",
       "</style>\n",
       "<table border=\"1\" class=\"dataframe\">\n",
       "  <thead>\n",
       "    <tr style=\"text-align: right;\">\n",
       "      <th></th>\n",
       "      <th>plan</th>\n",
       "      <th>month</th>\n",
       "      <th>round_gb</th>\n",
       "    </tr>\n",
       "  </thead>\n",
       "  <tbody>\n",
       "    <tr>\n",
       "      <th>0</th>\n",
       "      <td>surf</td>\n",
       "      <td>1.0</td>\n",
       "      <td>5.000000</td>\n",
       "    </tr>\n",
       "    <tr>\n",
       "      <th>1</th>\n",
       "      <td>surf</td>\n",
       "      <td>2.0</td>\n",
       "      <td>12.222222</td>\n",
       "    </tr>\n",
       "    <tr>\n",
       "      <th>2</th>\n",
       "      <td>surf</td>\n",
       "      <td>3.0</td>\n",
       "      <td>13.565217</td>\n",
       "    </tr>\n",
       "    <tr>\n",
       "      <th>3</th>\n",
       "      <td>surf</td>\n",
       "      <td>4.0</td>\n",
       "      <td>12.220000</td>\n",
       "    </tr>\n",
       "    <tr>\n",
       "      <th>4</th>\n",
       "      <td>surf</td>\n",
       "      <td>5.0</td>\n",
       "      <td>14.373333</td>\n",
       "    </tr>\n",
       "    <tr>\n",
       "      <th>5</th>\n",
       "      <td>surf</td>\n",
       "      <td>6.0</td>\n",
       "      <td>15.489583</td>\n",
       "    </tr>\n",
       "    <tr>\n",
       "      <th>6</th>\n",
       "      <td>surf</td>\n",
       "      <td>7.0</td>\n",
       "      <td>16.875000</td>\n",
       "    </tr>\n",
       "    <tr>\n",
       "      <th>7</th>\n",
       "      <td>surf</td>\n",
       "      <td>8.0</td>\n",
       "      <td>16.955975</td>\n",
       "    </tr>\n",
       "    <tr>\n",
       "      <th>8</th>\n",
       "      <td>surf</td>\n",
       "      <td>9.0</td>\n",
       "      <td>16.544503</td>\n",
       "    </tr>\n",
       "    <tr>\n",
       "      <th>9</th>\n",
       "      <td>surf</td>\n",
       "      <td>10.0</td>\n",
       "      <td>17.344828</td>\n",
       "    </tr>\n",
       "    <tr>\n",
       "      <th>10</th>\n",
       "      <td>surf</td>\n",
       "      <td>11.0</td>\n",
       "      <td>16.382671</td>\n",
       "    </tr>\n",
       "    <tr>\n",
       "      <th>11</th>\n",
       "      <td>surf</td>\n",
       "      <td>12.0</td>\n",
       "      <td>18.093248</td>\n",
       "    </tr>\n",
       "    <tr>\n",
       "      <th>12</th>\n",
       "      <td>ultimate</td>\n",
       "      <td>1.0</td>\n",
       "      <td>7.250000</td>\n",
       "    </tr>\n",
       "    <tr>\n",
       "      <th>13</th>\n",
       "      <td>ultimate</td>\n",
       "      <td>2.0</td>\n",
       "      <td>18.000000</td>\n",
       "    </tr>\n",
       "    <tr>\n",
       "      <th>14</th>\n",
       "      <td>ultimate</td>\n",
       "      <td>3.0</td>\n",
       "      <td>18.416667</td>\n",
       "    </tr>\n",
       "    <tr>\n",
       "      <th>15</th>\n",
       "      <td>ultimate</td>\n",
       "      <td>4.0</td>\n",
       "      <td>16.333333</td>\n",
       "    </tr>\n",
       "    <tr>\n",
       "      <th>16</th>\n",
       "      <td>ultimate</td>\n",
       "      <td>5.0</td>\n",
       "      <td>16.862069</td>\n",
       "    </tr>\n",
       "    <tr>\n",
       "      <th>17</th>\n",
       "      <td>ultimate</td>\n",
       "      <td>6.0</td>\n",
       "      <td>16.000000</td>\n",
       "    </tr>\n",
       "    <tr>\n",
       "      <th>18</th>\n",
       "      <td>ultimate</td>\n",
       "      <td>7.0</td>\n",
       "      <td>16.491525</td>\n",
       "    </tr>\n",
       "    <tr>\n",
       "      <th>19</th>\n",
       "      <td>ultimate</td>\n",
       "      <td>8.0</td>\n",
       "      <td>17.845070</td>\n",
       "    </tr>\n",
       "    <tr>\n",
       "      <th>20</th>\n",
       "      <td>ultimate</td>\n",
       "      <td>9.0</td>\n",
       "      <td>17.011628</td>\n",
       "    </tr>\n",
       "    <tr>\n",
       "      <th>21</th>\n",
       "      <td>ultimate</td>\n",
       "      <td>10.0</td>\n",
       "      <td>17.885714</td>\n",
       "    </tr>\n",
       "    <tr>\n",
       "      <th>22</th>\n",
       "      <td>ultimate</td>\n",
       "      <td>11.0</td>\n",
       "      <td>17.087302</td>\n",
       "    </tr>\n",
       "    <tr>\n",
       "      <th>23</th>\n",
       "      <td>ultimate</td>\n",
       "      <td>12.0</td>\n",
       "      <td>18.395973</td>\n",
       "    </tr>\n",
       "  </tbody>\n",
       "</table>\n",
       "</div>"
      ],
      "text/plain": [
       "        plan  month   round_gb\n",
       "0       surf    1.0   5.000000\n",
       "1       surf    2.0  12.222222\n",
       "2       surf    3.0  13.565217\n",
       "3       surf    4.0  12.220000\n",
       "4       surf    5.0  14.373333\n",
       "5       surf    6.0  15.489583\n",
       "6       surf    7.0  16.875000\n",
       "7       surf    8.0  16.955975\n",
       "8       surf    9.0  16.544503\n",
       "9       surf   10.0  17.344828\n",
       "10      surf   11.0  16.382671\n",
       "11      surf   12.0  18.093248\n",
       "12  ultimate    1.0   7.250000\n",
       "13  ultimate    2.0  18.000000\n",
       "14  ultimate    3.0  18.416667\n",
       "15  ultimate    4.0  16.333333\n",
       "16  ultimate    5.0  16.862069\n",
       "17  ultimate    6.0  16.000000\n",
       "18  ultimate    7.0  16.491525\n",
       "19  ultimate    8.0  17.845070\n",
       "20  ultimate    9.0  17.011628\n",
       "21  ultimate   10.0  17.885714\n",
       "22  ultimate   11.0  17.087302\n",
       "23  ultimate   12.0  18.395973"
      ]
     },
     "execution_count": 33,
     "metadata": {},
     "output_type": "execute_result"
    }
   ],
   "source": [
    "# Compara la cantidad de tráfico de Internet consumido por usuarios por plan\n",
    "\n",
    "average_monthly_gb = monthly_service_use.groupby([\"plan\",\"month\"])[\"round_gb\"].mean().reset_index()\n",
    "\n",
    "average_monthly_gb"
   ]
  },
  {
   "cell_type": "code",
   "execution_count": 34,
   "metadata": {
    "id": "wnh8jYXi0q1N"
   },
   "outputs": [
    {
     "data": {
      "image/png": "[encoded data removed]",
      "text/plain": [
       "<Figure size 1000x600 with 1 Axes>"
      ]
     },
     "metadata": {},
     "output_type": "display_data"
    }
   ],
   "source": [
    "# Compara el número de gb mensuales que necesitan los usuarios de cada plan. Trazar un Histograma\n",
    "# Filtrar los datos para el plan \"surf\" y \"ultimate\"\n",
    "\n",
    "surf_data_gb = average_monthly_gb[average_monthly_sms[\"plan\"] == \"surf\"]\n",
    "ultimate_data_gb = average_monthly_gb[average_monthly_sms[\"plan\"] == \"ultimate\"]\n",
    "\n",
    "# Configurar el gráfico\n",
    "plt.figure(figsize=(10, 6))\n",
    "\n",
    "# Graficar los datos para el plan \"surf\"\n",
    "plt.hist(surf_data_gb[\"round_gb\"], bins=10, alpha=0.5, label='Surf')\n",
    "\n",
    "# Graficar los datos para el plan \"ultimate\"\n",
    "plt.hist(ultimate_data_gb[\"round_gb\"], bins=10, alpha=0.5, label='Ultimate')\n",
    "\n",
    "# Añadir etiquetas y título\n",
    "plt.xlabel(\"Número de gb\")\n",
    "plt.ylabel(\"Frecuencia\")\n",
    "plt.title(\"GB por plan\")\n",
    "plt.legend()\n",
    "plt.grid(True)"
   ]
  },
  {
   "cell_type": "code",
   "execution_count": 35,
   "metadata": {
    "id": "5VlyJ9ry0q1N"
   },
   "outputs": [
    {
     "name": "stdout",
     "output_type": "stream",
     "text": [
      "La media de GB del plan ultimate es de: 31.356034273018 y la media del plan surf es de: 14.58888169962811\n",
      "La varianza de GB del plan ultimate es de: 85.2182244500177 y la varianza del plan surf es de: 12.982942071070948\n"
     ]
    }
   ],
   "source": [
    "# Calcular la media y la varianza de GB mensuales.\n",
    "\n",
    "#Calcular la media de  GB del plan ultimate\n",
    "mean_gb_ultimate= average_monthly_gb[average_monthly_gb[\"plan\"] == \"ultimate\"][\"round_gb\"].mean()\n",
    "\n",
    "#Calcular la media  de GB del plan surf\n",
    "mean_gb_surf= average_monthly_gb[average_monthly_gb[\"plan\"] == \"surf\"][\"round_gb\"].mean()\n",
    "\n",
    "#Calcular la varianza de GB del plan ultimate\n",
    "var_gb_ultimate =average_monthly_gb[average_monthly_gb[\"plan\"] == \"ultimate\"][\"round_gb\"].var()\n",
    "\n",
    "#Calcular la varianza de GB del plan surf\n",
    "var_gb_surf= average_monthly_gb[average_monthly_gb[\"plan\"] == \"surf\"][\"round_gb\"].var()\n",
    "\n",
    "print(f'La media de GB del plan ultimate es de: {mean_sms_ultimate} y la media del plan surf es de: {mean_gb_surf}')\n",
    "\n",
    "print(f'La varianza de GB del plan ultimate es de: {var_sms_ultimate} y la varianza del plan surf es de: {var_gb_surf}')\n"
   ]
  },
  {
   "cell_type": "code",
   "execution_count": 36,
   "metadata": {},
   "outputs": [
    {
     "data": {
      "image/png": "[encoded data removed]",
      "text/plain": [
       "<Figure size 1000x600 with 2 Axes>"
      ]
     },
     "metadata": {},
     "output_type": "display_data"
    }
   ],
   "source": [
    "# Traza un diagrama de caja para visualizar la distribución del número mensal de GB\n",
    "\n",
    "# Crear una figura y ejes para los gráficos de caja\n",
    "plt.figure(figsize=(10, 6))\n",
    "\n",
    "# Graficar el boxplot para el plan \"Surf\"\n",
    "plt.subplot(1, 2, 1)\n",
    "plt.boxplot(surf_data_gb[\"round_gb\"])\n",
    "plt.title('Boxplot de GB - Surf')\n",
    "plt.xlabel('Plan de Telefonía')\n",
    "plt.ylabel('Cantidad de GB')\n",
    "\n",
    "# Graficar el boxplot para el plan \"Ultimate\"\n",
    "plt.subplot(1, 2, 2)\n",
    "plt.boxplot(ultimate_data_gb[\"round_gb\"])\n",
    "plt.title('Boxplot de Cantidad de GB - Ultimate')\n",
    "plt.xlabel('Plan de Telefonía')\n",
    "plt.ylabel('Número de GB')\n",
    "\n",
    "plt.tight_layout()"
   ]
  },
  {
   "cell_type": "markdown",
   "metadata": {
    "id": "UN9zwuMP0q1N"
   },
   "source": [
    "Los datos analizados revelan diferencias significativas en el comportamiento de uso de gigabytes de internet entre los usuarios de los planes Surf y Ultimate. La media del número de gigabytes para el plan Ultimate es notablemente mayor que para el plan Surf, indicando un uso más intensivo de internet por parte de los usuarios de Ultimate. Esta disparidad se refleja claramente en los histogramas, donde el plan Ultimate muestra un pico más alto en el rango entre 16 y 18, mientras que el plan Surf presenta un pico más bajo en ese mismo intervalo. Los diagramas de cajas también confirman estas diferencias, mostrando una mayor concentración de datos alrededor de la mediana para el plan Ultimate, lo que se traduce en un rango intercuartílico aparentemente más estrecho. A pesar de la aparente discrepancia, las varianzas revelan una mayor variabilidad en los gigabytes de internet para el plan Ultimate en comparación con el plan Surf. En resumen, los usuarios de Ultimate tienden a utilizar más gigabytes en promedio y muestran una mayor diversidad en sus patrones de uso de internet en comparación con los usuarios de Surf."
   ]
  },
  {
   "cell_type": "markdown",
   "metadata": {
    "id": "tCijq3260q1N"
   },
   "source": [
    "## Ingreso"
   ]
  },
  {
   "cell_type": "markdown",
   "metadata": {
    "id": "9nq5IAcy0q1O"
   },
   "source": [
    "Ahora nos concentraremos en analizar estadísticamente los ingresos de los diferentes planes de servicio Este análisis detallado nos ayudará a comprender la distribución y variabilidad de los ingresos, lo que nos permitirá identificar patrones clave."
   ]
  },
  {
   "cell_type": "code",
   "execution_count": 37,
   "metadata": {
    "id": "tz-dq_V00q1O"
   },
   "outputs": [
    {
     "data": {
      "text/plain": [
       "<matplotlib.legend.Legend at 0x7fe68fdd6790>"
      ]
     },
     "execution_count": 37,
     "metadata": {},
     "output_type": "execute_result"
    },
    {
     "data": {
      "image/png": "[encoded data removed]",
      "text/plain": [
       "<Figure size 1000x600 with 1 Axes>"
      ]
     },
     "metadata": {},
     "output_type": "display_data"
    }
   ],
   "source": [
    "# Compara la duración promedio de ingresos por cada plan y por cada mes. \n",
    "\n",
    "average_monthly_income = monthly_service_use.groupby([\"plan\",\"month\"])[\"income\"].mean().reset_index()\n",
    "\n",
    "average_monthly_income\n",
    "\n",
    "# Filtrar los datos para el plan \"surf\" y \"ultimate\"\n",
    "\n",
    "surf_income = average_monthly_income[average_monthly_income[\"plan\"] == \"surf\"]\n",
    "ultimate_income = average_monthly_income[average_monthly_income[\"plan\"] == \"ultimate\"]\n",
    "\n",
    "# Configurar el gráfico\n",
    "plt.figure(figsize=(10, 6))\n",
    "\n",
    "# Graficar los datos para el plan \"surf\"\n",
    "plt.plot(surf_income[\"month\"], surf_income[\"income\"], marker='o', label='Surf')\n",
    "\n",
    "# Graficar los datos para el plan \"ultimate\"\n",
    "plt.plot(ultimate_income[\"month\"], ultimate_income[\"income\"], marker='o', label='Ultimate')\n",
    "\n",
    "# Añadir etiquetas y título\n",
    "plt.grid(True)\n",
    "plt.xlabel(\"Mes\")\n",
    "plt.ylabel(\"Promedio de ganancias por cliente en USD\")\n",
    "plt.title(\"Comparación de ganancias de clientes por plan y mes\")\n",
    "plt.xticks(range(1, 13))  # Asegurar que los meses estén etiquetados del 1 al 12\n",
    "plt.legend()\n",
    "\n"
   ]
  },
  {
   "cell_type": "code",
   "execution_count": 38,
   "metadata": {
    "id": "0Y1v8ZUz0q1P"
   },
   "outputs": [
    {
     "data": {
      "image/png": "[encoded data removed]",
      "text/plain": [
       "<Figure size 1000x600 with 2 Axes>"
      ]
     },
     "metadata": {},
     "output_type": "display_data"
    }
   ],
   "source": [
    "# Obtener los máximos valores de ingresos para ambos planes\n",
    "max_income = max(surf_income[\"income\"].max(), ultimate_income[\"income\"].max())\n",
    "\n",
    "# Crear una figura y ejes para los gráficos de caja\n",
    "plt.figure(figsize=(10, 6))\n",
    "\n",
    "# Graficar el boxplot para el plan \"Surf\"\n",
    "plt.subplot(1, 2, 1)\n",
    "plt.boxplot(surf_income[\"income\"])\n",
    "plt.title('Boxplot de Ingresos - Surf')\n",
    "plt.xlabel('Plan de Telefonía')\n",
    "plt.ylabel('Ingresos en USD')\n",
    "plt.ylim(0, max_income)  # Establecer el límite del eje y para que sea el mismo en ambos gráficos\n",
    "\n",
    "# Graficar el boxplot para el plan \"Ultimate\"\n",
    "plt.subplot(1, 2, 2)\n",
    "plt.boxplot(ultimate_income[\"income\"])\n",
    "plt.title('Boxplot de Ingresos - Ultimate')\n",
    "plt.xlabel('Plan de Telefonía')\n",
    "plt.ylabel('Ingresos en USD')\n",
    "plt.ylim(0, max_income)  # Establecer el límite del eje y para que sea el mismo en ambos gráficos\n",
    "\n",
    "plt.tight_layout()\n",
    "plt.show()\n",
    "\n"
   ]
  },
  {
   "cell_type": "code",
   "execution_count": 39,
   "metadata": {
    "id": "bYmwxyVh0q1P"
   },
   "outputs": [
    {
     "data": {
      "text/html": [
       "<div>\n",
       "<style scoped>\n",
       "    .dataframe tbody tr th:only-of-type {\n",
       "        vertical-align: middle;\n",
       "    }\n",
       "\n",
       "    .dataframe tbody tr th {\n",
       "        vertical-align: top;\n",
       "    }\n",
       "\n",
       "    .dataframe thead th {\n",
       "        text-align: right;\n",
       "    }\n",
       "</style>\n",
       "<table border=\"1\" class=\"dataframe\">\n",
       "  <thead>\n",
       "    <tr style=\"text-align: right;\">\n",
       "      <th></th>\n",
       "      <th>month</th>\n",
       "      <th>income</th>\n",
       "    </tr>\n",
       "  </thead>\n",
       "  <tbody>\n",
       "    <tr>\n",
       "      <th>count</th>\n",
       "      <td>12.000000</td>\n",
       "      <td>12.000000</td>\n",
       "    </tr>\n",
       "    <tr>\n",
       "      <th>mean</th>\n",
       "      <td>6.500000</td>\n",
       "      <td>49.732154</td>\n",
       "    </tr>\n",
       "    <tr>\n",
       "      <th>std</th>\n",
       "      <td>3.605551</td>\n",
       "      <td>13.815942</td>\n",
       "    </tr>\n",
       "    <tr>\n",
       "      <th>min</th>\n",
       "      <td>1.000000</td>\n",
       "      <td>20.000000</td>\n",
       "    </tr>\n",
       "    <tr>\n",
       "      <th>25%</th>\n",
       "      <td>3.750000</td>\n",
       "      <td>43.838811</td>\n",
       "    </tr>\n",
       "    <tr>\n",
       "      <th>50%</th>\n",
       "      <td>6.500000</td>\n",
       "      <td>51.649950</td>\n",
       "    </tr>\n",
       "    <tr>\n",
       "      <th>75%</th>\n",
       "      <td>9.250000</td>\n",
       "      <td>61.159702</td>\n",
       "    </tr>\n",
       "    <tr>\n",
       "      <th>max</th>\n",
       "      <td>12.000000</td>\n",
       "      <td>66.588521</td>\n",
       "    </tr>\n",
       "  </tbody>\n",
       "</table>\n",
       "</div>"
      ],
      "text/plain": [
       "           month     income\n",
       "count  12.000000  12.000000\n",
       "mean    6.500000  49.732154\n",
       "std     3.605551  13.815942\n",
       "min     1.000000  20.000000\n",
       "25%     3.750000  43.838811\n",
       "50%     6.500000  51.649950\n",
       "75%     9.250000  61.159702\n",
       "max    12.000000  66.588521"
      ]
     },
     "execution_count": 39,
     "metadata": {},
     "output_type": "execute_result"
    }
   ],
   "source": [
    "# Obtener el resumen estadístico para surf_income \n",
    "surf_income.describe()\n"
   ]
  },
  {
   "cell_type": "code",
   "execution_count": 40,
   "metadata": {},
   "outputs": [
    {
     "data": {
      "text/html": [
       "<div>\n",
       "<style scoped>\n",
       "    .dataframe tbody tr th:only-of-type {\n",
       "        vertical-align: middle;\n",
       "    }\n",
       "\n",
       "    .dataframe tbody tr th {\n",
       "        vertical-align: top;\n",
       "    }\n",
       "\n",
       "    .dataframe thead th {\n",
       "        text-align: right;\n",
       "    }\n",
       "</style>\n",
       "<table border=\"1\" class=\"dataframe\">\n",
       "  <thead>\n",
       "    <tr style=\"text-align: right;\">\n",
       "      <th></th>\n",
       "      <th>month</th>\n",
       "      <th>income</th>\n",
       "    </tr>\n",
       "  </thead>\n",
       "  <tbody>\n",
       "    <tr>\n",
       "      <th>count</th>\n",
       "      <td>12.000000</td>\n",
       "      <td>12.000000</td>\n",
       "    </tr>\n",
       "    <tr>\n",
       "      <th>mean</th>\n",
       "      <td>6.500000</td>\n",
       "      <td>72.000292</td>\n",
       "    </tr>\n",
       "    <tr>\n",
       "      <th>std</th>\n",
       "      <td>3.605551</td>\n",
       "      <td>1.344032</td>\n",
       "    </tr>\n",
       "    <tr>\n",
       "      <th>min</th>\n",
       "      <td>1.000000</td>\n",
       "      <td>70.000000</td>\n",
       "    </tr>\n",
       "    <tr>\n",
       "      <th>25%</th>\n",
       "      <td>3.750000</td>\n",
       "      <td>71.464368</td>\n",
       "    </tr>\n",
       "    <tr>\n",
       "      <th>50%</th>\n",
       "      <td>6.500000</td>\n",
       "      <td>71.966594</td>\n",
       "    </tr>\n",
       "    <tr>\n",
       "      <th>75%</th>\n",
       "      <td>9.250000</td>\n",
       "      <td>72.894366</td>\n",
       "    </tr>\n",
       "    <tr>\n",
       "      <th>max</th>\n",
       "      <td>12.000000</td>\n",
       "      <td>74.666667</td>\n",
       "    </tr>\n",
       "  </tbody>\n",
       "</table>\n",
       "</div>"
      ],
      "text/plain": [
       "           month     income\n",
       "count  12.000000  12.000000\n",
       "mean    6.500000  72.000292\n",
       "std     3.605551   1.344032\n",
       "min     1.000000  70.000000\n",
       "25%     3.750000  71.464368\n",
       "50%     6.500000  71.966594\n",
       "75%     9.250000  72.894366\n",
       "max    12.000000  74.666667"
      ]
     },
     "execution_count": 40,
     "metadata": {},
     "output_type": "execute_result"
    }
   ],
   "source": [
    "# Obtener el resumen estadístico para ultimate_income \n",
    "ultimate_income.describe()"
   ]
  },
  {
   "cell_type": "markdown",
   "metadata": {
    "id": "KAFidcXZ0q1P"
   },
   "source": [
    "En el análisis de los datos de ingresos por cliente y mes, se observa una consistencia notable en los ingresos del plan Ultimate, que se mantienen alrededor de 70 dólares a lo largo del año. Por el contrario, los ingresos del plan Surf muestran una tendencia ascendente, comenzando alrededor de 20 dólares al principio del año y aumentando gradualmente hasta alcanzar casi 70 dólares en diciembre. Estas cifras sugieren que, en promedio, los clientes del plan Ultimate generan ingresos más estables en comparación con los del plan Surf. Además, al examinar la desviación estándar, se observa que la variabilidad de los ingresos es mucho mayor en el plan Surf (13.82) en comparación con el plan Ultimate (1.34). Esto indica que los ingresos del plan Surf tienden a fluctuar más ampliamente en torno a su media, lo que refleja una mayor incertidumbre en los ingresos mensuales. Este patrón se confirma visualmente en el diagrama de cajas, donde el rango intercuartílico del plan Surf es más amplio, lo que sugiere una mayor dispersión de los ingresos en comparación con el plan Ultimate, donde la mayoría de los ingresos se concentran alrededor del valor medio."
   ]
  },
  {
   "cell_type": "markdown",
   "metadata": {
    "id": "ajJ7VKeI0q1Q"
   },
   "source": [
    "## Prueba las hipótesis estadísticas"
   ]
  },
  {
   "cell_type": "markdown",
   "metadata": {
    "id": "AdXAZ-yL0q1Q"
   },
   "source": [
    "Ahora realizaremos una prueba para evaluar si existen diferencias significativas en los ingresos promedio entre los usuarios de los planes de llamada Ultimate y Surf.\n",
    "\n",
    "Para ello, primero elaboraremos las hipótesis nula y alternativa. La hipótesis nula (H0) establece que no hay diferencia en los ingresos promedio entre los usuarios de los planes Ultimate y Surf, mientras que la hipótesis alternativa (H1) sugiere que sí hay una diferencia en los ingresos promedio entre estos usuarios.\n",
    "\n"
   ]
  },
  {
   "cell_type": "markdown",
   "metadata": {
    "id": "IQwa_hsh0q1Q"
   },
   "source": [
    "Luego, utilizando la prueba t de Welch (st.ttest_ind) con un valor alfa de 0.05, evaluaremos los resultados obtenidos para determinar si podemos rechazar o no la hipótesis nula."
   ]
  },
  {
   "cell_type": "code",
   "execution_count": 41,
   "metadata": {
    "id": "nFoPNlPq0q1R"
   },
   "outputs": [
    {
     "name": "stdout",
     "output_type": "stream",
     "text": [
      "Rechazamos la hipótesis nula que dice: No hay diferencia en los ingresos promedio entre los usuarios de los planes Ultimate y Surf.\n",
      "Hay evidencia suficiente para sugerir que hay una diferencia significativa en los ingresos promedio entre los usuarios de los planes Ultimate y Surf.\n"
     ]
    }
   ],
   "source": [
    "# Definir hipótesis nula y alternativa\n",
    "H0_no_difference_income_plans = \"No hay diferencia en los ingresos promedio entre los usuarios de los planes Ultimate y Surf.\"\n",
    "H1_difference_income_plans = \"Hay una diferencia en los ingresos promedio entre los usuarios de los planes Ultimate y Surf.\"\n",
    "\n",
    "# Nivel de significancia estadística (alfa)\n",
    "alpha = 0.05\n",
    "\n",
    "# Realizar la prueba de hipótesis\n",
    "results = st.ttest_ind(surf_income[\"income\"], ultimate_income[\"income\"], equal_var=False)\n",
    "\n",
    "# Comprobar si rechazamos o no la hipótesis nula\n",
    "if results.pvalue < alpha:\n",
    "    print(\"Rechazamos la hipótesis nula que dice:\", H0_no_difference_income_plans)\n",
    "    print(\"Hay evidencia suficiente para sugerir que hay una diferencia significativa en los ingresos promedio entre los usuarios de los planes Ultimate y Surf.\")\n",
    "else:\n",
    "    print(\"No podemos rechazar la hipótesis nula:\", H0_no_difference_income_plans)\n",
    "    print(\"No hay suficiente evidencia para sugerir que hay una diferencia significativa en los ingresos promedio entre los usuarios de los planes Ultimate y Surf.\")\n"
   ]
  },
  {
   "cell_type": "markdown",
   "metadata": {
    "id": "tCcAruM60q1R"
   },
   "source": [
    "Ahora procederemos a realizar una prueba para evaluar si el ingreso promedio de los usuarios del área New York-Newark-Jersey City, NY-NJ-PA MSA es diferente al de los usuarios de otras regiones.\n",
    "\n",
    "Para ello, primero elaboraremos las hipótesis nula y alternativa. La hipótesis nula (H0) establece que no hay diferencia en el ingreso promedio entre los usuarios del área New York-Newark-Jersey City, NY-NJ-PA MSA y los usuarios de otras regiones, mientras que la hipótesis alternativa (H1) sugiere que sí hay una diferencia en el ingreso promedio entre estos grupos de usuarios.\n",
    "\n"
   ]
  },
  {
   "cell_type": "markdown",
   "metadata": {
    "id": "LsBgitqj0q1R"
   },
   "source": [
    "Luego, seleccionaremos la prueba estadística adecuada, en este caso, utilizaremos la prueba t de Welch (st.ttest_ind) de la biblioteca scipy.stats. Utilizaremos un valor alfa de 0.05 para determinar si podemos rechazar o no la hipótesis nula."
   ]
  },
  {
   "cell_type": "code",
   "execution_count": 42,
   "metadata": {
    "id": "Cqcj7wrZ0q1S"
   },
   "outputs": [
    {
     "name": "stdout",
     "output_type": "stream",
     "text": [
      "Rechazamos la hipótesis nula que dice: No hay diferencia en los ingresos promedio entre los usuarios del área NY-NJ y los demás usuarios\n"
     ]
    }
   ],
   "source": [
    "#Combinar monthly_service_use con la columna de ciudad de users\n",
    "#how=inner para no considerar los clientes con plan cancelado\n",
    "monthly_service_used = pd.merge(monthly_service_use, users[['user_id', 'city']], on='user_id', how='inner')\n",
    "\n",
    "# Filtrar las filas donde la columna \"New York-Newark-Jersey City, NY-NJ-PA MSA\" \n",
    "ny_nj_data = monthly_service_used[monthly_service_used['city'] == 'New York-Newark-Jersey City, NY-NJ-PA MSA']\n",
    "\n",
    "# Calcular el promedio de la columna \"income\" para New York-Newark-Jersey City, NY-NJ-PA MSA\"\n",
    "promedio_income_ny_nj = ny_nj_data['income'].mean()\n",
    "\n",
    "# Filtrar las filas donde la columna \"city\" no es igual a \"New York-Newark-Jersey City, NY-NJ-PA MSA\"\n",
    "other_locations_data = monthly_service_used[monthly_service_used['city'] != 'New York-Newark-Jersey City, NY-NJ-PA MSA']\n",
    "\n",
    "#Calcular el promedio de la columna \"income\" para todas las ubicaciones excepto \"New York-Newark-Jersey City, NY-NJ-PA MSA\" \n",
    "promedio_income_otros = other_locations_data['income'].mean()\n",
    "\n",
    "# Definir las hipótesis\n",
    "H0 = \"No hay diferencia en los ingresos promedio entre los usuarios del área NY-NJ y los demás usuarios\"\n",
    "H1 = \"Hay una diferencia en los ingresos promedio entre los usuarios del área NY-NJ y los demás usuarios\"\n",
    "\n",
    "# Filtrar los datos para usuarios del área NY-NJ y los demás usuarios\n",
    "ny_nj_data = monthly_service_used[monthly_service_used['city'] == 'New York-Newark-Jersey City, NY-NJ-PA MSA']\n",
    "otros_data = monthly_service_used[monthly_service_used['city'] != 'New York-Newark-Jersey City, NY-NJ-PA MSA']\n",
    "\n",
    "# Realizar la prueba de hipótesis\n",
    "alpha = 0.05\n",
    "results = st.ttest_ind(ny_nj_data[\"income\"], otros_data[\"income\"], equal_var=False)\n",
    "\n",
    "# Comprobar si rechazamos o no la hipótesis nula\n",
    "if results.pvalue < alpha:\n",
    "    print(\"Rechazamos la hipótesis nula que dice:\", H0)\n",
    "else:\n",
    "    print(\"No podemos rechazar la hipótesis nula:\", H0)\n",
    "\n"
   ]
  },
  {
   "cell_type": "markdown",
   "metadata": {
    "id": "bbTR8UQO0q1T"
   },
   "source": [
    "## Conclusión general\n"
   ]
  },
  {
   "cell_type": "markdown",
   "metadata": {},
   "source": [
    "**Comportamiento de llamadas:**\n",
    "\n",
    "Las estadísticas de medias y varianzas, así como los histogramas y gráficos de cajas, revelan similitudes en la duración de llamadas entre los planes Surf y Ultimate. La media del plan Ultimate es ligeramente mayor que la del plan Surf, aunque la varianza del plan Ultimate es algo más alta."
   ]
  },
  {
   "cell_type": "markdown",
   "metadata": {},
   "source": [
    "**Comportamiento de mensajería:**\n",
    "\n",
    "Se observan diferencias significativas en el comportamiento de mensajería entre los usuarios de los planes Surf y Ultimate. La media del número de mensajes es mayor en el plan Ultimate, lo que se refleja en histogramas y gráficos de cajas con picos más altos y mayor variabilidad en comparación con el plan Surf."
   ]
  },
  {
   "cell_type": "markdown",
   "metadata": {},
   "source": [
    "**Comportamiento de uso de internet:**\n",
    "\n",
    "Se encuentran diferencias notables en el comportamiento de uso de gigabytes de internet entre los usuarios de los planes Surf y Ultimate. La media del número de gigabytes es más alta en el plan Ultimate, con una mayor concentración de datos en este plan según histogramas y gráficos de cajas."
   ]
  },
  {
   "cell_type": "markdown",
   "metadata": {},
   "source": [
    "**Ingresos por cliente y mes:**\n",
    "\n",
    "Los ingresos del plan Ultimate muestran una consistencia alrededor de 70 dólares, mientras que los del plan Surf tienen una tendencia ascendente a lo largo del año. La variabilidad de los ingresos es mayor en el plan Surf, lo que refleja una mayor incertidumbre en los ingresos mensuales.\n"
   ]
  },
  {
   "cell_type": "markdown",
   "metadata": {},
   "source": [
    "**Pruebas de Hipótesis:**"
   ]
  },
  {
   "cell_type": "markdown",
   "metadata": {},
   "source": [
    "**1) Ingresos entre Usuarios de Planes Ultimate y Surf:**\n",
    "\n",
    "Rechazamos la hipótesis nula que plantea que no hay diferencia en los ingresos promedio entre los usuarios de los planes Ultimate y Surf. Los resultados proporcionan suficiente evidencia para sugerir que existe una diferencia significativa en los ingresos promedio entre estos grupos de usuarios, destacando que el plan Ultimate, que tiene mayores ingresos promedio, muestra también una menor variabilidad en comparación con el plan Surf."
   ]
  },
  {
   "cell_type": "markdown",
   "metadata": {},
   "source": [
    "**2) Ingresos entre Usuarios del Área NY-NJ y Otras Regiones:**\n",
    "    \n",
    "Rechazamos la hipótesis nula que afirma que no hay diferencia en los ingresos promedio entre los usuarios del área NY-NJ y los demás usuarios. Esto indica que existe una diferencia significativa en los ingresos promedio entre estos dos grupos de usuarios, resaltando que, en promedio, los usuarios del área NY-NJ generan menos ingresos que los usuarios de otras regiones."
   ]
  }
 ],
 "metadata": {
  "ExecuteTimeLog": [
   {
    "duration": 828,
    "start_time": "2021-11-16T09:21:11.304Z"
   },
   {
    "duration": 893,
    "start_time": "2021-11-16T09:21:17.728Z"
   },
   {
    "duration": 1150,
    "start_time": "2021-11-16T09:21:29.568Z"
   },
   {
    "duration": 3,
    "start_time": "2021-11-16T09:24:14.495Z"
   },
   {
    "duration": 120,
    "start_time": "2021-11-16T09:24:46.630Z"
   },
   {
    "duration": 3,
    "start_time": "2021-11-16T09:28:27.882Z"
   },
   {
    "duration": 4,
    "start_time": "2021-11-16T09:29:54.281Z"
   },
   {
    "duration": 3,
    "start_time": "2021-11-16T09:30:45.936Z"
   },
   {
    "duration": 4,
    "start_time": "2021-11-16T09:31:06.300Z"
   },
   {
    "duration": 113,
    "start_time": "2021-11-16T09:31:37.208Z"
   },
   {
    "duration": 143,
    "start_time": "2021-11-16T09:31:48.656Z"
   },
   {
    "duration": 98,
    "start_time": "2021-11-16T09:31:55.678Z"
   },
   {
    "duration": 3,
    "start_time": "2021-11-16T09:32:08.535Z"
   },
   {
    "duration": 111,
    "start_time": "2021-11-16T09:32:10.120Z"
   },
   {
    "duration": 3,
    "start_time": "2021-11-16T09:32:15.732Z"
   },
   {
    "duration": 4,
    "start_time": "2021-11-16T09:32:29.423Z"
   },
   {
    "duration": 3,
    "start_time": "2021-11-16T10:03:03.074Z"
   },
   {
    "duration": 3,
    "start_time": "2021-11-16T10:10:01.288Z"
   },
   {
    "duration": 3,
    "start_time": "2021-11-16T10:10:46.923Z"
   },
   {
    "duration": 121,
    "start_time": "2021-11-16T10:37:46.494Z"
   },
   {
    "duration": 125,
    "start_time": "2021-11-16T10:38:20.632Z"
   },
   {
    "duration": 112,
    "start_time": "2021-11-16T10:46:53.001Z"
   },
   {
    "duration": 110,
    "start_time": "2021-11-16T10:48:25.775Z"
   },
   {
    "duration": 3,
    "start_time": "2021-11-16T10:50:18.720Z"
   },
   {
    "duration": 4,
    "start_time": "2021-11-16T10:50:37.649Z"
   },
   {
    "duration": 2,
    "start_time": "2021-11-16T10:50:51.884Z"
   },
   {
    "duration": 3,
    "start_time": "2021-11-16T10:51:56.237Z"
   },
   {
    "duration": 101,
    "start_time": "2021-11-16T10:53:13.791Z"
   },
   {
    "duration": 3,
    "start_time": "2021-11-16T10:55:59.186Z"
   },
   {
    "duration": 3,
    "start_time": "2021-11-16T10:56:10.751Z"
   },
   {
    "duration": 3,
    "start_time": "2021-11-16T10:56:49.038Z"
   },
   {
    "duration": 3,
    "start_time": "2021-11-16T10:56:49.174Z"
   },
   {
    "duration": 4,
    "start_time": "2021-11-16T10:56:49.414Z"
   },
   {
    "duration": 3,
    "start_time": "2021-11-16T10:56:49.680Z"
   },
   {
    "duration": 3,
    "start_time": "2021-11-16T10:56:50.370Z"
   },
   {
    "duration": 114,
    "start_time": "2021-11-16T10:59:34.518Z"
   },
   {
    "duration": 3,
    "start_time": "2021-11-16T11:01:41.201Z"
   },
   {
    "duration": 116,
    "start_time": "2021-11-16T11:01:48.754Z"
   },
   {
    "duration": 3,
    "start_time": "2021-11-16T11:02:16.685Z"
   },
   {
    "duration": 3,
    "start_time": "2021-11-16T11:02:19.479Z"
   },
   {
    "duration": 3,
    "start_time": "2021-11-16T11:02:47.067Z"
   },
   {
    "duration": 3,
    "start_time": "2021-11-16T11:02:49.353Z"
   },
   {
    "duration": 3,
    "start_time": "2021-11-16T11:03:07.835Z"
   },
   {
    "duration": 3,
    "start_time": "2021-11-16T11:03:07.953Z"
   },
   {
    "duration": 112,
    "start_time": "2021-11-16T11:07:52.072Z"
   },
   {
    "duration": 187,
    "start_time": "2021-11-16T11:09:23.468Z"
   },
   {
    "duration": 4,
    "start_time": "2021-11-16T11:10:01.455Z"
   },
   {
    "duration": 3,
    "start_time": "2021-11-16T11:10:05.069Z"
   },
   {
    "duration": 4,
    "start_time": "2021-11-16T11:10:13.376Z"
   },
   {
    "duration": 3,
    "start_time": "2021-11-16T11:10:14.434Z"
   },
   {
    "duration": 3,
    "start_time": "2021-11-16T11:10:22.853Z"
   },
   {
    "duration": 4,
    "start_time": "2021-11-16T11:27:29.279Z"
   },
   {
    "duration": 4,
    "start_time": "2021-11-16T11:29:08.919Z"
   },
   {
    "duration": 118,
    "start_time": "2021-11-16T11:29:46.703Z"
   },
   {
    "duration": 437,
    "start_time": "2021-11-16T11:36:02.181Z"
   },
   {
    "duration": 157,
    "start_time": "2021-11-16T11:36:14.388Z"
   },
   {
    "duration": 207,
    "start_time": "2021-11-16T11:47:15.898Z"
   },
   {
    "duration": 3,
    "start_time": "2021-11-16T11:53:52.092Z"
   },
   {
    "duration": 3,
    "start_time": "2021-11-16T11:53:52.236Z"
   },
   {
    "duration": 3,
    "start_time": "2021-11-16T11:59:12.005Z"
   },
   {
    "duration": 112,
    "start_time": "2021-11-16T12:00:33.446Z"
   },
   {
    "duration": 3,
    "start_time": "2021-11-16T12:02:14.453Z"
   },
   {
    "duration": 3,
    "start_time": "2021-11-16T12:02:39.512Z"
   },
   {
    "duration": 106,
    "start_time": "2021-11-16T12:03:03.460Z"
   },
   {
    "duration": 3,
    "start_time": "2021-11-17T20:37:21.139Z"
   },
   {
    "duration": 3,
    "start_time": "2021-11-17T20:37:22.229Z"
   },
   {
    "duration": 3,
    "start_time": "2021-11-17T20:38:38.806Z"
   },
   {
    "duration": 3,
    "start_time": "2021-11-17T20:38:41.958Z"
   },
   {
    "duration": 3,
    "start_time": "2021-11-17T20:43:46.551Z"
   },
   {
    "duration": 4,
    "start_time": "2021-11-17T20:58:21.835Z"
   },
   {
    "duration": 3,
    "start_time": "2021-11-17T20:59:21.872Z"
   },
   {
    "duration": 4,
    "start_time": "2021-11-17T20:59:45.352Z"
   },
   {
    "duration": 4,
    "start_time": "2021-11-17T20:59:49.646Z"
   },
   {
    "duration": 159,
    "start_time": "2021-11-17T21:02:26.949Z"
   },
   {
    "duration": 3,
    "start_time": "2021-11-17T21:03:53.461Z"
   },
   {
    "duration": 3,
    "start_time": "2021-11-17T21:03:53.694Z"
   },
   {
    "duration": 3,
    "start_time": "2021-11-17T21:05:28.145Z"
   },
   {
    "duration": 116,
    "start_time": "2021-11-17T21:05:57.787Z"
   },
   {
    "duration": 3,
    "start_time": "2021-11-17T21:06:37.993Z"
   },
   {
    "duration": 3,
    "start_time": "2021-11-17T21:06:38.261Z"
   },
   {
    "duration": 3,
    "start_time": "2021-11-17T21:11:54.358Z"
   },
   {
    "duration": 3,
    "start_time": "2021-11-17T21:12:43.846Z"
   },
   {
    "duration": 4,
    "start_time": "2021-11-17T21:13:08.773Z"
   },
   {
    "duration": 3,
    "start_time": "2021-11-17T21:14:44.441Z"
   },
   {
    "duration": 3,
    "start_time": "2021-11-17T21:15:42.059Z"
   },
   {
    "duration": 4,
    "start_time": "2021-11-17T21:15:51.995Z"
   },
   {
    "duration": 3,
    "start_time": "2021-11-17T21:15:53.923Z"
   },
   {
    "duration": 3,
    "start_time": "2021-11-17T21:15:55.282Z"
   },
   {
    "duration": 3,
    "start_time": "2021-11-17T21:16:28.492Z"
   },
   {
    "duration": 3,
    "start_time": "2021-11-17T21:16:32.603Z"
   },
   {
    "duration": 3,
    "start_time": "2021-11-17T21:17:06.941Z"
   },
   {
    "duration": 98,
    "start_time": "2021-11-17T21:18:05.733Z"
   },
   {
    "duration": 4,
    "start_time": "2021-11-17T21:21:35.255Z"
   },
   {
    "duration": 3,
    "start_time": "2021-11-17T21:21:37.804Z"
   },
   {
    "duration": 4,
    "start_time": "2021-11-17T21:23:06.071Z"
   },
   {
    "duration": 3,
    "start_time": "2021-11-17T21:23:24.799Z"
   },
   {
    "duration": 3,
    "start_time": "2021-11-17T21:23:32.591Z"
   },
   {
    "duration": 98,
    "start_time": "2021-11-17T21:28:31.559Z"
   },
   {
    "duration": 3,
    "start_time": "2021-11-17T21:28:45.448Z"
   },
   {
    "duration": 3,
    "start_time": "2021-11-17T21:29:17.303Z"
   },
   {
    "duration": 3,
    "start_time": "2021-11-17T21:29:29.617Z"
   },
   {
    "duration": 3,
    "start_time": "2021-11-17T21:29:32.681Z"
   },
   {
    "duration": 3,
    "start_time": "2021-11-17T21:36:11.474Z"
   },
   {
    "duration": 3,
    "start_time": "2021-11-17T21:36:14.791Z"
   },
   {
    "duration": 3,
    "start_time": "2021-11-17T21:36:53.943Z"
   },
   {
    "duration": 3,
    "start_time": "2021-11-17T21:36:56.165Z"
   },
   {
    "duration": 4,
    "start_time": "2021-11-17T21:37:16.590Z"
   },
   {
    "duration": 3,
    "start_time": "2021-11-17T21:37:22.702Z"
   },
   {
    "duration": 4,
    "start_time": "2021-11-17T21:38:03.479Z"
   },
   {
    "duration": 3,
    "start_time": "2021-11-17T21:38:08.601Z"
   },
   {
    "duration": 3,
    "start_time": "2021-11-17T21:38:12.928Z"
   },
   {
    "duration": 3,
    "start_time": "2021-11-17T21:38:48.896Z"
   },
   {
    "duration": 2,
    "start_time": "2021-11-17T21:38:49.171Z"
   },
   {
    "duration": 4,
    "start_time": "2021-11-17T21:39:57.889Z"
   },
   {
    "duration": 3,
    "start_time": "2021-11-17T21:39:58.057Z"
   },
   {
    "duration": 3,
    "start_time": "2021-11-17T21:41:20.108Z"
   },
   {
    "duration": 3,
    "start_time": "2021-11-17T21:41:20.629Z"
   },
   {
    "duration": 3,
    "start_time": "2021-11-17T21:42:49.136Z"
   },
   {
    "duration": 3,
    "start_time": "2021-11-17T21:43:15.137Z"
   },
   {
    "duration": 4,
    "start_time": "2021-11-17T21:43:16.766Z"
   },
   {
    "duration": 4,
    "start_time": "2021-11-17T21:43:31.711Z"
   },
   {
    "duration": 3,
    "start_time": "2021-11-17T21:43:36.312Z"
   },
   {
    "duration": 4,
    "start_time": "2021-11-17T21:45:08.825Z"
   },
   {
    "duration": 4,
    "start_time": "2021-11-17T21:45:10.119Z"
   },
   {
    "duration": 4,
    "start_time": "2021-11-17T21:45:13.748Z"
   },
   {
    "duration": 3,
    "start_time": "2021-11-17T21:45:22.219Z"
   },
   {
    "duration": 3,
    "start_time": "2021-11-17T21:45:33.412Z"
   },
   {
    "duration": 2,
    "start_time": "2021-11-17T21:46:01.885Z"
   },
   {
    "duration": 3,
    "start_time": "2021-11-17T21:46:03.628Z"
   },
   {
    "duration": 107,
    "start_time": "2021-11-17T21:47:32.512Z"
   },
   {
    "duration": 103,
    "start_time": "2021-11-17T21:50:36.243Z"
   },
   {
    "duration": 3,
    "start_time": "2021-11-18T06:28:31.440Z"
   },
   {
    "duration": 3,
    "start_time": "2021-11-18T06:29:00.168Z"
   },
   {
    "duration": 3,
    "start_time": "2021-11-18T06:31:27.008Z"
   },
   {
    "duration": 2,
    "start_time": "2021-11-18T06:35:34.288Z"
   },
   {
    "duration": 2,
    "start_time": "2021-11-18T06:38:04.527Z"
   }
  ],
  "colab": {
   "provenance": []
  },
  "kernelspec": {
   "display_name": "Python 3 (ipykernel)",
   "language": "python",
   "name": "python3"
  },
  "language_info": {
   "codemirror_mode": {
    "name": "ipython",
    "version": 3
   },
   "file_extension": ".py",
   "mimetype": "text/x-python",
   "name": "python",
   "nbconvert_exporter": "python",
   "pygments_lexer": "ipython3",
   "version": "3.8.19"
  },
  "toc": {
   "base_numbering": 1,
   "nav_menu": {},
   "number_sections": true,
   "sideBar": true,
   "skip_h1_title": false,
   "title_cell": "Table of Contents",
   "title_sidebar": "Contents",
   "toc_cell": false,
   "toc_position": {},
   "toc_section_display": true,
   "toc_window_display": true
  }
 },
 "nbformat": 4,
 "nbformat_minor": 1
}
